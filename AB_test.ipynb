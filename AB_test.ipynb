{
 "cells": [
  {
   "cell_type": "markdown",
   "metadata": {},
   "source": [
    "## Проект: вариант 3"
   ]
  },
  {
   "cell_type": "markdown",
   "metadata": {},
   "source": [
    "Представьте, что вы работаете в крупном дейтинговом приложении.\n",
    "\n",
    "Помимо базовых функций, в приложении также имеется премиум-подписка, которая дает доступ к ряду важных дополнительных возможностей. Был проведен A/B тест, в рамках которого для новых пользователей из нескольких стран была изменена стоимость премиум-подписки* при покупке через две новые платежные системы. При этом стоимость пробного периода оставалась прежней.\n",
    "\n",
    "Проверьте:\n",
    "\n",
    "Был ли эксперимент успешен в целом.\n",
    "*Деньги за подписку списываются ежемесячно до тех пор, пока пользователь её не отменит."
   ]
  },
  {
   "cell_type": "markdown",
   "metadata": {},
   "source": [
    "Данные\n",
    "Всего есть три группы: тестовая (test), контрольная 1 (control_1) и контрольная 2 (control_2). Для каждой из них:\n",
    "\n",
    "users_*.csv – информация о пользователях:\n",
    "\n",
    "uid – идентификатор пользователя\n",
    "\n",
    "age – возраст\n",
    "\n",
    "attraction_coeff – коэффициент привлекательности (от 0 до 1000, лайки / просмотры * 1000)\n",
    "\n",
    "coins – число монеток (внутренняя валюта)\n",
    "\n",
    "country – страна  \n",
    "\n",
    "visit_days – в какие дни после регистрации пользователь посещал приложение (напр. в 1, затем в 7)\n",
    "\n",
    "gender – пол\n",
    "\n",
    "age_filter_start  – фильтр поиска, мин. значение \n",
    "\n",
    "age_filter_end  – фильтр поиска, макс. значение \n",
    "\n",
    "views_count – число полученных оценок \n",
    "\n",
    "was_premium – был ли когда-либо премиум (либо пробный период премиум-статуса, либо купленный за деньги)\n",
    "\n",
    "is_premium –  является ли премиум\n",
    "\n",
    "total_revenue – нормированная выручка \n",
    "\n",
    "\n",
    "\n",
    "transactions_*.csv – информация о платежах пользователей:\n",
    "\n",
    "uid – идентификатор пользователя\n",
    "\n",
    "country – страна\n",
    "\n",
    "joined_at – дата и время регистрации\n",
    "\n",
    "paid_at – дата и время покупки\n",
    "\n",
    "revenue – нормированная выручка\n",
    "\n",
    "payment_id – идентификатор платежа\n",
    "\n",
    "from_page – откуда пользователь перешел на страницу оплаты\n",
    "\n",
    "product_type – тип продукта (trial_premium – пробная премиум-подписка, premium_no_trial – премиум-подписка без пробной, coins – подписка за внутреннюю валюту, other_type – другое) "
   ]
  },
  {
   "cell_type": "markdown",
   "metadata": {},
   "source": [
    "Файлы:\n",
    "\n",
    "users_test – информация о пользователях в тестовой группе. \n",
    "\n",
    "users_control_1 – информация о пользователях в первой контрольной группе. \n",
    "\n",
    "users_control_2 – информация о пользователях во второй контрольной группе . \n",
    "\n",
    "transactions_test – информация о платежах пользователей в тестовой группе. \n",
    "\n",
    "transactions_control_1 – информация о платежах пользователей в первой контрольной группе. \n",
    "\n",
    "transactions_control_2 – информация о платежах пользователей во второй контрольной группе."
   ]
  },
  {
   "cell_type": "markdown",
   "metadata": {},
   "source": [
    "Имортиркем библиотеки"
   ]
  },
  {
   "cell_type": "code",
   "execution_count": 933,
   "metadata": {},
   "outputs": [],
   "source": [
    "import pandas as pd\n",
    "import numpy as np\n",
    "import requests\n",
    "from io import BytesIO\n",
    "import datetime \n",
    "from scipy.stats import bootstrap\n",
    "\n",
    "import scipy.stats as ss\n",
    "from scipy.stats import chi2_contingency, f_oneway, kruskal, ttest_ind, mannwhitneyu\n",
    "import pingouin as pg\n",
    "from scipy.stats import chi2_contingency, chi2\n",
    "\n",
    "import seaborn as sns\n",
    "import matplotlib.pyplot as plt\n",
    "\n",
    "import warnings\n",
    "warnings.filterwarnings('ignore')\n",
    "\n",
    "%matplotlib inline\n",
    "sns.set_style(\"white\")\n",
    "\n",
    "import statsmodels.api as sm\n",
    "import statsmodels.formula.api as smf\n",
    "from statsmodels.stats.api import anova_lm\n",
    "from statsmodels.stats.multicomp import (pairwise_tukeyhsd,\n",
    "                                         MultiComparison)"
   ]
  },
  {
   "cell_type": "markdown",
   "metadata": {},
   "source": [
    "Читайем файлы"
   ]
  },
  {
   "cell_type": "code",
   "execution_count": 934,
   "metadata": {},
   "outputs": [],
   "source": [
    "users_test = pd.read_csv('/mnt/HC_Volume_18315164/home-jupyter/jupyter-j-brovko/Finish_project/Проект_3_users_test.csv', encoding='windows-1251', sep=';')\n",
    "users_control_1 = pd.read_csv('/mnt/HC_Volume_18315164/home-jupyter/jupyter-j-brovko/Finish_project/Проект_3_users_control_1.csv', encoding='windows-1251', sep=';')\n",
    "users_control_2 = pd.read_csv('/mnt/HC_Volume_18315164/home-jupyter/jupyter-j-brovko/Finish_project/Проект_3_users_control_2.csv', encoding='windows-1251', sep=';')\n",
    "transactions_test = pd.read_csv('/mnt/HC_Volume_18315164/home-jupyter/jupyter-j-brovko/Finish_project/Проект_3_transactions_test.csv', encoding='windows-1251', sep=';')\n",
    "transactions_control_1 = pd.read_csv('/mnt/HC_Volume_18315164/home-jupyter/jupyter-j-brovko/Finish_project/Проект_3_transactions_control_1.csv', encoding='windows-1251', sep=';')\n",
    "transactions_control_2 = pd.read_csv('/mnt/HC_Volume_18315164/home-jupyter/jupyter-j-brovko/Finish_project/Проект_3_transactions_control_2.csv', encoding='windows-1251', sep=';')"
   ]
  },
  {
   "cell_type": "code",
   "execution_count": 935,
   "metadata": {},
   "outputs": [
    {
     "data": {
      "text/html": [
       "<div>\n",
       "<style scoped>\n",
       "    .dataframe tbody tr th:only-of-type {\n",
       "        vertical-align: middle;\n",
       "    }\n",
       "\n",
       "    .dataframe tbody tr th {\n",
       "        vertical-align: top;\n",
       "    }\n",
       "\n",
       "    .dataframe thead th {\n",
       "        text-align: right;\n",
       "    }\n",
       "</style>\n",
       "<table border=\"1\" class=\"dataframe\">\n",
       "  <thead>\n",
       "    <tr style=\"text-align: right;\">\n",
       "      <th></th>\n",
       "      <th>uid</th>\n",
       "      <th>age</th>\n",
       "      <th>attraction_coeff</th>\n",
       "      <th>coins</th>\n",
       "      <th>country</th>\n",
       "      <th>visit_days</th>\n",
       "      <th>gender</th>\n",
       "      <th>age_filter_start</th>\n",
       "      <th>age_filter_end</th>\n",
       "      <th>views_count</th>\n",
       "      <th>was_premium</th>\n",
       "      <th>is_premium</th>\n",
       "      <th>total_revenue</th>\n",
       "    </tr>\n",
       "  </thead>\n",
       "  <tbody>\n",
       "    <tr>\n",
       "      <th>0</th>\n",
       "      <td>892309896</td>\n",
       "      <td>27</td>\n",
       "      <td>685</td>\n",
       "      <td>NaN</td>\n",
       "      <td>United States of America</td>\n",
       "      <td>1,2,3,4,5,6,7,8,9,10,11,12,16,17</td>\n",
       "      <td>1</td>\n",
       "      <td>24</td>\n",
       "      <td>30</td>\n",
       "      <td>89</td>\n",
       "      <td>NaN</td>\n",
       "      <td>NaN</td>\n",
       "      <td>0</td>\n",
       "    </tr>\n",
       "    <tr>\n",
       "      <th>1</th>\n",
       "      <td>892044516</td>\n",
       "      <td>27</td>\n",
       "      <td>0</td>\n",
       "      <td>NaN</td>\n",
       "      <td>Germany</td>\n",
       "      <td>NaN</td>\n",
       "      <td>1</td>\n",
       "      <td>24</td>\n",
       "      <td>30</td>\n",
       "      <td>0</td>\n",
       "      <td>NaN</td>\n",
       "      <td>NaN</td>\n",
       "      <td>0</td>\n",
       "    </tr>\n",
       "    <tr>\n",
       "      <th>2</th>\n",
       "      <td>892185708</td>\n",
       "      <td>45</td>\n",
       "      <td>44</td>\n",
       "      <td>NaN</td>\n",
       "      <td>Israel</td>\n",
       "      <td>1,3,4,6,7,8,10,11,12,13,14,15,16,17,18,19,20,2...</td>\n",
       "      <td>1</td>\n",
       "      <td>42</td>\n",
       "      <td>48</td>\n",
       "      <td>68</td>\n",
       "      <td>NaN</td>\n",
       "      <td>NaN</td>\n",
       "      <td>0</td>\n",
       "    </tr>\n",
       "    <tr>\n",
       "      <th>3</th>\n",
       "      <td>892130292</td>\n",
       "      <td>32</td>\n",
       "      <td>0</td>\n",
       "      <td>NaN</td>\n",
       "      <td>United States of America</td>\n",
       "      <td>1,2,3,4,5,6,7,8,9,10,11,12</td>\n",
       "      <td>1</td>\n",
       "      <td>29</td>\n",
       "      <td>35</td>\n",
       "      <td>0</td>\n",
       "      <td>NaN</td>\n",
       "      <td>NaN</td>\n",
       "      <td>0</td>\n",
       "    </tr>\n",
       "    <tr>\n",
       "      <th>4</th>\n",
       "      <td>891406035</td>\n",
       "      <td>27</td>\n",
       "      <td>1000</td>\n",
       "      <td>NaN</td>\n",
       "      <td>France</td>\n",
       "      <td>NaN</td>\n",
       "      <td>1</td>\n",
       "      <td>24</td>\n",
       "      <td>30</td>\n",
       "      <td>1</td>\n",
       "      <td>1.0</td>\n",
       "      <td>NaN</td>\n",
       "      <td>0</td>\n",
       "    </tr>\n",
       "    <tr>\n",
       "      <th>...</th>\n",
       "      <td>...</td>\n",
       "      <td>...</td>\n",
       "      <td>...</td>\n",
       "      <td>...</td>\n",
       "      <td>...</td>\n",
       "      <td>...</td>\n",
       "      <td>...</td>\n",
       "      <td>...</td>\n",
       "      <td>...</td>\n",
       "      <td>...</td>\n",
       "      <td>...</td>\n",
       "      <td>...</td>\n",
       "      <td>...</td>\n",
       "    </tr>\n",
       "    <tr>\n",
       "      <th>4303</th>\n",
       "      <td>891078639</td>\n",
       "      <td>17</td>\n",
       "      <td>895</td>\n",
       "      <td>NaN</td>\n",
       "      <td>United States of America</td>\n",
       "      <td>1,2,3,4,5</td>\n",
       "      <td>1</td>\n",
       "      <td>16</td>\n",
       "      <td>20</td>\n",
       "      <td>96</td>\n",
       "      <td>NaN</td>\n",
       "      <td>NaN</td>\n",
       "      <td>0</td>\n",
       "    </tr>\n",
       "    <tr>\n",
       "      <th>4304</th>\n",
       "      <td>891188733</td>\n",
       "      <td>27</td>\n",
       "      <td>866</td>\n",
       "      <td>NaN</td>\n",
       "      <td>United States of America</td>\n",
       "      <td>1,2,3</td>\n",
       "      <td>1</td>\n",
       "      <td>18</td>\n",
       "      <td>41</td>\n",
       "      <td>30</td>\n",
       "      <td>NaN</td>\n",
       "      <td>NaN</td>\n",
       "      <td>0</td>\n",
       "    </tr>\n",
       "    <tr>\n",
       "      <th>4305</th>\n",
       "      <td>891293718</td>\n",
       "      <td>48</td>\n",
       "      <td>0</td>\n",
       "      <td>NaN</td>\n",
       "      <td>Argentina</td>\n",
       "      <td>NaN</td>\n",
       "      <td>1</td>\n",
       "      <td>47</td>\n",
       "      <td>51</td>\n",
       "      <td>10</td>\n",
       "      <td>NaN</td>\n",
       "      <td>NaN</td>\n",
       "      <td>0</td>\n",
       "    </tr>\n",
       "    <tr>\n",
       "      <th>4306</th>\n",
       "      <td>891192357</td>\n",
       "      <td>32</td>\n",
       "      <td>0</td>\n",
       "      <td>NaN</td>\n",
       "      <td>Australia</td>\n",
       "      <td>NaN</td>\n",
       "      <td>1</td>\n",
       "      <td>16</td>\n",
       "      <td>49</td>\n",
       "      <td>0</td>\n",
       "      <td>NaN</td>\n",
       "      <td>NaN</td>\n",
       "      <td>0</td>\n",
       "    </tr>\n",
       "    <tr>\n",
       "      <th>4307</th>\n",
       "      <td>891668910</td>\n",
       "      <td>35</td>\n",
       "      <td>575</td>\n",
       "      <td>NaN</td>\n",
       "      <td>United Arab Emirates</td>\n",
       "      <td>1</td>\n",
       "      <td>1</td>\n",
       "      <td>16</td>\n",
       "      <td>99</td>\n",
       "      <td>73</td>\n",
       "      <td>NaN</td>\n",
       "      <td>NaN</td>\n",
       "      <td>0</td>\n",
       "    </tr>\n",
       "  </tbody>\n",
       "</table>\n",
       "<p>4308 rows × 13 columns</p>\n",
       "</div>"
      ],
      "text/plain": [
       "            uid  age  attraction_coeff  coins                   country  \\\n",
       "0     892309896   27               685    NaN  United States of America   \n",
       "1     892044516   27                 0    NaN                   Germany   \n",
       "2     892185708   45                44    NaN                    Israel   \n",
       "3     892130292   32                 0    NaN  United States of America   \n",
       "4     891406035   27              1000    NaN                    France   \n",
       "...         ...  ...               ...    ...                       ...   \n",
       "4303  891078639   17               895    NaN  United States of America   \n",
       "4304  891188733   27               866    NaN  United States of America   \n",
       "4305  891293718   48                 0    NaN                 Argentina   \n",
       "4306  891192357   32                 0    NaN                 Australia   \n",
       "4307  891668910   35               575    NaN      United Arab Emirates   \n",
       "\n",
       "                                             visit_days  gender  \\\n",
       "0                      1,2,3,4,5,6,7,8,9,10,11,12,16,17       1   \n",
       "1                                                   NaN       1   \n",
       "2     1,3,4,6,7,8,10,11,12,13,14,15,16,17,18,19,20,2...       1   \n",
       "3                            1,2,3,4,5,6,7,8,9,10,11,12       1   \n",
       "4                                                   NaN       1   \n",
       "...                                                 ...     ...   \n",
       "4303                                          1,2,3,4,5       1   \n",
       "4304                                              1,2,3       1   \n",
       "4305                                                NaN       1   \n",
       "4306                                                NaN       1   \n",
       "4307                                                  1       1   \n",
       "\n",
       "      age_filter_start  age_filter_end  views_count  was_premium  is_premium  \\\n",
       "0                   24              30           89          NaN         NaN   \n",
       "1                   24              30            0          NaN         NaN   \n",
       "2                   42              48           68          NaN         NaN   \n",
       "3                   29              35            0          NaN         NaN   \n",
       "4                   24              30            1          1.0         NaN   \n",
       "...                ...             ...          ...          ...         ...   \n",
       "4303                16              20           96          NaN         NaN   \n",
       "4304                18              41           30          NaN         NaN   \n",
       "4305                47              51           10          NaN         NaN   \n",
       "4306                16              49            0          NaN         NaN   \n",
       "4307                16              99           73          NaN         NaN   \n",
       "\n",
       "      total_revenue  \n",
       "0                 0  \n",
       "1                 0  \n",
       "2                 0  \n",
       "3                 0  \n",
       "4                 0  \n",
       "...             ...  \n",
       "4303              0  \n",
       "4304              0  \n",
       "4305              0  \n",
       "4306              0  \n",
       "4307              0  \n",
       "\n",
       "[4308 rows x 13 columns]"
      ]
     },
     "execution_count": 935,
     "metadata": {},
     "output_type": "execute_result"
    }
   ],
   "source": [
    "users_test"
   ]
  },
  {
   "cell_type": "code",
   "execution_count": 936,
   "metadata": {},
   "outputs": [
    {
     "data": {
      "text/html": [
       "<div>\n",
       "<style scoped>\n",
       "    .dataframe tbody tr th:only-of-type {\n",
       "        vertical-align: middle;\n",
       "    }\n",
       "\n",
       "    .dataframe tbody tr th {\n",
       "        vertical-align: top;\n",
       "    }\n",
       "\n",
       "    .dataframe thead th {\n",
       "        text-align: right;\n",
       "    }\n",
       "</style>\n",
       "<table border=\"1\" class=\"dataframe\">\n",
       "  <thead>\n",
       "    <tr style=\"text-align: right;\">\n",
       "      <th></th>\n",
       "      <th>uid</th>\n",
       "      <th>country</th>\n",
       "      <th>joined_at</th>\n",
       "      <th>paid_at</th>\n",
       "      <th>revenue</th>\n",
       "      <th>payment_id</th>\n",
       "      <th>from_page</th>\n",
       "      <th>product_type</th>\n",
       "    </tr>\n",
       "  </thead>\n",
       "  <tbody>\n",
       "    <tr>\n",
       "      <th>0</th>\n",
       "      <td>891345942</td>\n",
       "      <td>Italy</td>\n",
       "      <td>2017-05-11 13:00:00</td>\n",
       "      <td>2017-11-13 15:04:00</td>\n",
       "      <td>12909</td>\n",
       "      <td>147</td>\n",
       "      <td>trial_vip_popup</td>\n",
       "      <td>trial_premium</td>\n",
       "    </tr>\n",
       "    <tr>\n",
       "      <th>1</th>\n",
       "      <td>892054251</td>\n",
       "      <td>United States of America</td>\n",
       "      <td>2017-10-22 00:33:00</td>\n",
       "      <td>2017-10-30 01:37:00</td>\n",
       "      <td>13923</td>\n",
       "      <td>147</td>\n",
       "      <td>trial_vip_popup</td>\n",
       "      <td>trial_premium</td>\n",
       "    </tr>\n",
       "    <tr>\n",
       "      <th>2</th>\n",
       "      <td>892236423</td>\n",
       "      <td>United States of America</td>\n",
       "      <td>2017-10-18 01:09:00</td>\n",
       "      <td>2017-10-23 00:15:00</td>\n",
       "      <td>3783</td>\n",
       "      <td>67</td>\n",
       "      <td>menu</td>\n",
       "      <td>other_type</td>\n",
       "    </tr>\n",
       "    <tr>\n",
       "      <th>3</th>\n",
       "      <td>892236423</td>\n",
       "      <td>United States of America</td>\n",
       "      <td>2017-10-18 01:09:00</td>\n",
       "      <td>2017-10-27 22:38:00</td>\n",
       "      <td>3783</td>\n",
       "      <td>67</td>\n",
       "      <td>menu</td>\n",
       "      <td>other_type</td>\n",
       "    </tr>\n",
       "    <tr>\n",
       "      <th>4</th>\n",
       "      <td>892168170</td>\n",
       "      <td>United States of America</td>\n",
       "      <td>2017-10-19 17:10:00</td>\n",
       "      <td>2017-10-27 19:10:00</td>\n",
       "      <td>9087</td>\n",
       "      <td>147</td>\n",
       "      <td>trial_vip_popup</td>\n",
       "      <td>trial_premium</td>\n",
       "    </tr>\n",
       "    <tr>\n",
       "      <th>...</th>\n",
       "      <td>...</td>\n",
       "      <td>...</td>\n",
       "      <td>...</td>\n",
       "      <td>...</td>\n",
       "      <td>...</td>\n",
       "      <td>...</td>\n",
       "      <td>...</td>\n",
       "      <td>...</td>\n",
       "    </tr>\n",
       "    <tr>\n",
       "      <th>268</th>\n",
       "      <td>891419625</td>\n",
       "      <td>Israel</td>\n",
       "      <td>2017-04-11 05:58:00</td>\n",
       "      <td>2017-11-11 08:33:00</td>\n",
       "      <td>14352</td>\n",
       "      <td>147</td>\n",
       "      <td>trial_vip_popup</td>\n",
       "      <td>trial_premium</td>\n",
       "    </tr>\n",
       "    <tr>\n",
       "      <th>269</th>\n",
       "      <td>891447105</td>\n",
       "      <td>United Kingdom (Great Britain)</td>\n",
       "      <td>2017-03-11 17:05:00</td>\n",
       "      <td>2017-11-11 04:23:00</td>\n",
       "      <td>7319</td>\n",
       "      <td>147</td>\n",
       "      <td>fans</td>\n",
       "      <td>premium_no_trial</td>\n",
       "    </tr>\n",
       "    <tr>\n",
       "      <th>270</th>\n",
       "      <td>891497073</td>\n",
       "      <td>United States of America</td>\n",
       "      <td>2017-02-11 15:33:00</td>\n",
       "      <td>2017-05-11 04:06:00</td>\n",
       "      <td>2730</td>\n",
       "      <td>67</td>\n",
       "      <td>empty_likes</td>\n",
       "      <td>other_type</td>\n",
       "    </tr>\n",
       "    <tr>\n",
       "      <th>271</th>\n",
       "      <td>891406224</td>\n",
       "      <td>Israel</td>\n",
       "      <td>2017-04-11 12:56:00</td>\n",
       "      <td>2017-04-11 13:35:00</td>\n",
       "      <td>2743</td>\n",
       "      <td>67</td>\n",
       "      <td>empty_likes</td>\n",
       "      <td>other_type</td>\n",
       "    </tr>\n",
       "    <tr>\n",
       "      <th>272</th>\n",
       "      <td>891499359</td>\n",
       "      <td>Germany</td>\n",
       "      <td>2017-02-11 14:25:00</td>\n",
       "      <td>2017-02-11 14:30:00</td>\n",
       "      <td>1599</td>\n",
       "      <td>19</td>\n",
       "      <td>none</td>\n",
       "      <td>coins</td>\n",
       "    </tr>\n",
       "  </tbody>\n",
       "</table>\n",
       "<p>273 rows × 8 columns</p>\n",
       "</div>"
      ],
      "text/plain": [
       "           uid                         country            joined_at  \\\n",
       "0    891345942                           Italy  2017-05-11 13:00:00   \n",
       "1    892054251        United States of America  2017-10-22 00:33:00   \n",
       "2    892236423        United States of America  2017-10-18 01:09:00   \n",
       "3    892236423        United States of America  2017-10-18 01:09:00   \n",
       "4    892168170        United States of America  2017-10-19 17:10:00   \n",
       "..         ...                             ...                  ...   \n",
       "268  891419625                          Israel  2017-04-11 05:58:00   \n",
       "269  891447105  United Kingdom (Great Britain)  2017-03-11 17:05:00   \n",
       "270  891497073        United States of America  2017-02-11 15:33:00   \n",
       "271  891406224                          Israel  2017-04-11 12:56:00   \n",
       "272  891499359                         Germany  2017-02-11 14:25:00   \n",
       "\n",
       "                 paid_at  revenue  payment_id        from_page  \\\n",
       "0    2017-11-13 15:04:00    12909         147  trial_vip_popup   \n",
       "1    2017-10-30 01:37:00    13923         147  trial_vip_popup   \n",
       "2    2017-10-23 00:15:00     3783          67             menu   \n",
       "3    2017-10-27 22:38:00     3783          67             menu   \n",
       "4    2017-10-27 19:10:00     9087         147  trial_vip_popup   \n",
       "..                   ...      ...         ...              ...   \n",
       "268  2017-11-11 08:33:00    14352         147  trial_vip_popup   \n",
       "269  2017-11-11 04:23:00     7319         147             fans   \n",
       "270  2017-05-11 04:06:00     2730          67      empty_likes   \n",
       "271  2017-04-11 13:35:00     2743          67      empty_likes   \n",
       "272  2017-02-11 14:30:00     1599          19             none   \n",
       "\n",
       "         product_type  \n",
       "0       trial_premium  \n",
       "1       trial_premium  \n",
       "2          other_type  \n",
       "3          other_type  \n",
       "4       trial_premium  \n",
       "..                ...  \n",
       "268     trial_premium  \n",
       "269  premium_no_trial  \n",
       "270        other_type  \n",
       "271        other_type  \n",
       "272             coins  \n",
       "\n",
       "[273 rows x 8 columns]"
      ]
     },
     "execution_count": 936,
     "metadata": {},
     "output_type": "execute_result"
    }
   ],
   "source": [
    "transactions_test"
   ]
  },
  {
   "cell_type": "markdown",
   "metadata": {},
   "source": [
    "## Изучим данные: проверим пропуски, дубли, типы данных, скорректировем неточности, если найдем, оставим только необходимые для работы данные."
   ]
  },
  {
   "cell_type": "markdown",
   "metadata": {},
   "source": [
    "Сначала изучим информацию о пользователях"
   ]
  },
  {
   "cell_type": "code",
   "execution_count": 937,
   "metadata": {},
   "outputs": [
    {
     "data": {
      "text/plain": [
       "uid                   int64\n",
       "age                   int64\n",
       "attraction_coeff      int64\n",
       "coins               float64\n",
       "country              object\n",
       "visit_days           object\n",
       "gender                int64\n",
       "age_filter_start      int64\n",
       "age_filter_end        int64\n",
       "views_count           int64\n",
       "was_premium         float64\n",
       "is_premium          float64\n",
       "total_revenue         int64\n",
       "dtype: object"
      ]
     },
     "execution_count": 937,
     "metadata": {},
     "output_type": "execute_result"
    }
   ],
   "source": [
    "users_test.dtypes"
   ]
  },
  {
   "cell_type": "code",
   "execution_count": 938,
   "metadata": {},
   "outputs": [
    {
     "data": {
      "text/plain": [
       "uid                   int64\n",
       "age                   int64\n",
       "attraction_coeff      int64\n",
       "coins               float64\n",
       "country              object\n",
       "visit_days           object\n",
       "gender                int64\n",
       "age_filter_start      int64\n",
       "age_filter_end        int64\n",
       "views_count           int64\n",
       "was_premium         float64\n",
       "is_premium          float64\n",
       "total_revenue         int64\n",
       "dtype: object"
      ]
     },
     "execution_count": 938,
     "metadata": {},
     "output_type": "execute_result"
    }
   ],
   "source": [
    "users_control_1.dtypes"
   ]
  },
  {
   "cell_type": "code",
   "execution_count": 939,
   "metadata": {},
   "outputs": [
    {
     "data": {
      "text/plain": [
       "uid                   int64\n",
       "age                   int64\n",
       "attraction_coeff      int64\n",
       "coins               float64\n",
       "country              object\n",
       "visit_days           object\n",
       "gender                int64\n",
       "age_filter_start      int64\n",
       "age_filter_end        int64\n",
       "views_count           int64\n",
       "was_premium         float64\n",
       "is_premium          float64\n",
       "total_revenue         int64\n",
       "dtype: object"
      ]
     },
     "execution_count": 939,
     "metadata": {},
     "output_type": "execute_result"
    }
   ],
   "source": [
    "users_control_2.dtypes"
   ]
  },
  {
   "cell_type": "markdown",
   "metadata": {},
   "source": [
    "Типы данных нас устраивают, ничего корректировать не будем"
   ]
  },
  {
   "cell_type": "code",
   "execution_count": 940,
   "metadata": {},
   "outputs": [
    {
     "data": {
      "text/plain": [
       "uid                    0\n",
       "age                    0\n",
       "attraction_coeff       0\n",
       "coins               4259\n",
       "country                0\n",
       "visit_days          1330\n",
       "gender                 0\n",
       "age_filter_start       0\n",
       "age_filter_end         0\n",
       "views_count            0\n",
       "was_premium         3900\n",
       "is_premium          4151\n",
       "total_revenue          0\n",
       "dtype: int64"
      ]
     },
     "execution_count": 940,
     "metadata": {},
     "output_type": "execute_result"
    }
   ],
   "source": [
    "users_test.isna().sum()"
   ]
  },
  {
   "cell_type": "code",
   "execution_count": 941,
   "metadata": {},
   "outputs": [
    {
     "data": {
      "text/plain": [
       "uid                    0\n",
       "age                    0\n",
       "attraction_coeff       0\n",
       "coins               4280\n",
       "country                0\n",
       "visit_days          1324\n",
       "gender                 0\n",
       "age_filter_start       0\n",
       "age_filter_end         0\n",
       "views_count            0\n",
       "was_premium         3904\n",
       "is_premium          4148\n",
       "total_revenue          0\n",
       "dtype: int64"
      ]
     },
     "execution_count": 941,
     "metadata": {},
     "output_type": "execute_result"
    }
   ],
   "source": [
    "users_control_1.isna().sum()"
   ]
  },
  {
   "cell_type": "code",
   "execution_count": 942,
   "metadata": {},
   "outputs": [
    {
     "data": {
      "text/plain": [
       "uid                    0\n",
       "age                    0\n",
       "attraction_coeff       0\n",
       "coins               4203\n",
       "country                0\n",
       "visit_days          1364\n",
       "gender                 0\n",
       "age_filter_start       0\n",
       "age_filter_end         0\n",
       "views_count            0\n",
       "was_premium         3853\n",
       "is_premium          4073\n",
       "total_revenue          0\n",
       "dtype: int64"
      ]
     },
     "execution_count": 942,
     "metadata": {},
     "output_type": "execute_result"
    }
   ],
   "source": [
    "users_control_2.isna().sum()"
   ]
  },
  {
   "cell_type": "markdown",
   "metadata": {},
   "source": [
    "Нули присутствует в колонках, которые это подразумевают: у пользователей может не быть монеток, премиум-аккаунта или количества дней, которые он посещал приложение. Поэтому считаем, что ошибочных пропусков нет."
   ]
  },
  {
   "cell_type": "code",
   "execution_count": 943,
   "metadata": {},
   "outputs": [
    {
     "data": {
      "text/plain": [
       "(4308, 4340, 4264)"
      ]
     },
     "execution_count": 943,
     "metadata": {},
     "output_type": "execute_result"
    }
   ],
   "source": [
    "users_test.shape[0], users_control_1.shape[0],users_control_2.shape[0]"
   ]
  },
  {
   "cell_type": "markdown",
   "metadata": {},
   "source": [
    "Количество строк в трех группах примерно одинаковое."
   ]
  },
  {
   "cell_type": "code",
   "execution_count": 944,
   "metadata": {},
   "outputs": [
    {
     "data": {
      "text/plain": [
       "(4308, 4340, 4264)"
      ]
     },
     "execution_count": 944,
     "metadata": {},
     "output_type": "execute_result"
    }
   ],
   "source": [
    "users_test.uid.nunique(),users_control_1.uid.nunique(),users_control_2.uid.nunique()"
   ]
  },
  {
   "cell_type": "markdown",
   "metadata": {},
   "source": [
    "Количество уникальных пользователей совпадает с количеством строк, делаем вывод, что повторений нет."
   ]
  },
  {
   "cell_type": "code",
   "execution_count": 945,
   "metadata": {},
   "outputs": [
    {
     "data": {
      "text/plain": [
       "(0, 0, 0)"
      ]
     },
     "execution_count": 945,
     "metadata": {},
     "output_type": "execute_result"
    }
   ],
   "source": [
    "users_test.duplicated().sum(),users_control_1.duplicated().sum(),users_control_2.duplicated().sum()"
   ]
  },
  {
   "cell_type": "markdown",
   "metadata": {},
   "source": [
    "Дубликатов нет"
   ]
  },
  {
   "cell_type": "markdown",
   "metadata": {},
   "source": [
    "Для удобства объединим датафреймы"
   ]
  },
  {
   "cell_type": "code",
   "execution_count": 946,
   "metadata": {},
   "outputs": [],
   "source": [
    "users_test['group'] = 'test'\n",
    "users_control_1['group'] = 'control_1'\n",
    "users_control_2['group'] = 'control_2'"
   ]
  },
  {
   "cell_type": "code",
   "execution_count": 947,
   "metadata": {},
   "outputs": [],
   "source": [
    "users = pd.concat([users_test, users_control_1, users_control_2]).reset_index()"
   ]
  },
  {
   "cell_type": "markdown",
   "metadata": {},
   "source": [
    "Посмотрим общее описание объединенного датафрема по юзерам"
   ]
  },
  {
   "cell_type": "code",
   "execution_count": 948,
   "metadata": {},
   "outputs": [
    {
     "data": {
      "text/html": [
       "<div>\n",
       "<style scoped>\n",
       "    .dataframe tbody tr th:only-of-type {\n",
       "        vertical-align: middle;\n",
       "    }\n",
       "\n",
       "    .dataframe tbody tr th {\n",
       "        vertical-align: top;\n",
       "    }\n",
       "\n",
       "    .dataframe thead th {\n",
       "        text-align: right;\n",
       "    }\n",
       "</style>\n",
       "<table border=\"1\" class=\"dataframe\">\n",
       "  <thead>\n",
       "    <tr style=\"text-align: right;\">\n",
       "      <th></th>\n",
       "      <th>index</th>\n",
       "      <th>uid</th>\n",
       "      <th>age</th>\n",
       "      <th>attraction_coeff</th>\n",
       "      <th>coins</th>\n",
       "      <th>gender</th>\n",
       "      <th>age_filter_start</th>\n",
       "      <th>age_filter_end</th>\n",
       "      <th>views_count</th>\n",
       "      <th>was_premium</th>\n",
       "      <th>is_premium</th>\n",
       "      <th>total_revenue</th>\n",
       "    </tr>\n",
       "  </thead>\n",
       "  <tbody>\n",
       "    <tr>\n",
       "      <th>count</th>\n",
       "      <td>12912.000000</td>\n",
       "      <td>1.291200e+04</td>\n",
       "      <td>12912.000000</td>\n",
       "      <td>12912.000000</td>\n",
       "      <td>170.000000</td>\n",
       "      <td>12912.000000</td>\n",
       "      <td>12912.000000</td>\n",
       "      <td>12912.000000</td>\n",
       "      <td>12912.000000</td>\n",
       "      <td>1255.0</td>\n",
       "      <td>540.0</td>\n",
       "      <td>12912.000000</td>\n",
       "    </tr>\n",
       "    <tr>\n",
       "      <th>mean</th>\n",
       "      <td>2151.612763</td>\n",
       "      <td>8.917569e+08</td>\n",
       "      <td>32.010378</td>\n",
       "      <td>315.455545</td>\n",
       "      <td>688.958824</td>\n",
       "      <td>0.955158</td>\n",
       "      <td>26.815985</td>\n",
       "      <td>38.568463</td>\n",
       "      <td>46.641032</td>\n",
       "      <td>1.0</td>\n",
       "      <td>1.0</td>\n",
       "      <td>526.837283</td>\n",
       "    </tr>\n",
       "    <tr>\n",
       "      <th>std</th>\n",
       "      <td>1242.700980</td>\n",
       "      <td>1.610285e+06</td>\n",
       "      <td>10.224415</td>\n",
       "      <td>323.488766</td>\n",
       "      <td>7690.943033</td>\n",
       "      <td>0.206965</td>\n",
       "      <td>9.447197</td>\n",
       "      <td>15.511204</td>\n",
       "      <td>285.324194</td>\n",
       "      <td>0.0</td>\n",
       "      <td>0.0</td>\n",
       "      <td>5524.662716</td>\n",
       "    </tr>\n",
       "    <tr>\n",
       "      <th>min</th>\n",
       "      <td>0.000000</td>\n",
       "      <td>8.910509e+08</td>\n",
       "      <td>16.000000</td>\n",
       "      <td>0.000000</td>\n",
       "      <td>1.000000</td>\n",
       "      <td>0.000000</td>\n",
       "      <td>13.000000</td>\n",
       "      <td>19.000000</td>\n",
       "      <td>0.000000</td>\n",
       "      <td>1.0</td>\n",
       "      <td>1.0</td>\n",
       "      <td>0.000000</td>\n",
       "    </tr>\n",
       "    <tr>\n",
       "      <th>25%</th>\n",
       "      <td>1075.750000</td>\n",
       "      <td>8.913565e+08</td>\n",
       "      <td>25.000000</td>\n",
       "      <td>0.000000</td>\n",
       "      <td>6.000000</td>\n",
       "      <td>1.000000</td>\n",
       "      <td>19.000000</td>\n",
       "      <td>28.000000</td>\n",
       "      <td>1.000000</td>\n",
       "      <td>1.0</td>\n",
       "      <td>1.0</td>\n",
       "      <td>0.000000</td>\n",
       "    </tr>\n",
       "    <tr>\n",
       "      <th>50%</th>\n",
       "      <td>2151.500000</td>\n",
       "      <td>8.917255e+08</td>\n",
       "      <td>30.000000</td>\n",
       "      <td>250.000000</td>\n",
       "      <td>10.000000</td>\n",
       "      <td>1.000000</td>\n",
       "      <td>25.000000</td>\n",
       "      <td>35.000000</td>\n",
       "      <td>6.000000</td>\n",
       "      <td>1.0</td>\n",
       "      <td>1.0</td>\n",
       "      <td>0.000000</td>\n",
       "    </tr>\n",
       "    <tr>\n",
       "      <th>75%</th>\n",
       "      <td>3227.250000</td>\n",
       "      <td>8.920860e+08</td>\n",
       "      <td>38.000000</td>\n",
       "      <td>529.000000</td>\n",
       "      <td>28.000000</td>\n",
       "      <td>1.000000</td>\n",
       "      <td>32.000000</td>\n",
       "      <td>45.000000</td>\n",
       "      <td>21.000000</td>\n",
       "      <td>1.0</td>\n",
       "      <td>1.0</td>\n",
       "      <td>0.000000</td>\n",
       "    </tr>\n",
       "    <tr>\n",
       "      <th>max</th>\n",
       "      <td>4339.000000</td>\n",
       "      <td>1.053059e+09</td>\n",
       "      <td>99.000000</td>\n",
       "      <td>1000.000000</td>\n",
       "      <td>99958.000000</td>\n",
       "      <td>1.000000</td>\n",
       "      <td>96.000000</td>\n",
       "      <td>102.000000</td>\n",
       "      <td>16157.000000</td>\n",
       "      <td>1.0</td>\n",
       "      <td>1.0</td>\n",
       "      <td>486330.000000</td>\n",
       "    </tr>\n",
       "  </tbody>\n",
       "</table>\n",
       "</div>"
      ],
      "text/plain": [
       "              index           uid           age  attraction_coeff  \\\n",
       "count  12912.000000  1.291200e+04  12912.000000      12912.000000   \n",
       "mean    2151.612763  8.917569e+08     32.010378        315.455545   \n",
       "std     1242.700980  1.610285e+06     10.224415        323.488766   \n",
       "min        0.000000  8.910509e+08     16.000000          0.000000   \n",
       "25%     1075.750000  8.913565e+08     25.000000          0.000000   \n",
       "50%     2151.500000  8.917255e+08     30.000000        250.000000   \n",
       "75%     3227.250000  8.920860e+08     38.000000        529.000000   \n",
       "max     4339.000000  1.053059e+09     99.000000       1000.000000   \n",
       "\n",
       "              coins        gender  age_filter_start  age_filter_end  \\\n",
       "count    170.000000  12912.000000      12912.000000    12912.000000   \n",
       "mean     688.958824      0.955158         26.815985       38.568463   \n",
       "std     7690.943033      0.206965          9.447197       15.511204   \n",
       "min        1.000000      0.000000         13.000000       19.000000   \n",
       "25%        6.000000      1.000000         19.000000       28.000000   \n",
       "50%       10.000000      1.000000         25.000000       35.000000   \n",
       "75%       28.000000      1.000000         32.000000       45.000000   \n",
       "max    99958.000000      1.000000         96.000000      102.000000   \n",
       "\n",
       "        views_count  was_premium  is_premium  total_revenue  \n",
       "count  12912.000000       1255.0       540.0   12912.000000  \n",
       "mean      46.641032          1.0         1.0     526.837283  \n",
       "std      285.324194          0.0         0.0    5524.662716  \n",
       "min        0.000000          1.0         1.0       0.000000  \n",
       "25%        1.000000          1.0         1.0       0.000000  \n",
       "50%        6.000000          1.0         1.0       0.000000  \n",
       "75%       21.000000          1.0         1.0       0.000000  \n",
       "max    16157.000000          1.0         1.0  486330.000000  "
      ]
     },
     "execution_count": 948,
     "metadata": {},
     "output_type": "execute_result"
    }
   ],
   "source": [
    "users.describe()"
   ]
  },
  {
   "cell_type": "markdown",
   "metadata": {},
   "source": [
    "Средний возраст пользователей 32 года, больше 75% пользователей - мужчины, 540 премиальных пользователей и 1255 пользователей были премиальными, средняя выручка на одного пользователя 526,84"
   ]
  },
  {
   "cell_type": "code",
   "execution_count": 949,
   "metadata": {},
   "outputs": [
    {
     "data": {
      "text/html": [
       "<div>\n",
       "<style scoped>\n",
       "    .dataframe tbody tr th:only-of-type {\n",
       "        vertical-align: middle;\n",
       "    }\n",
       "\n",
       "    .dataframe tbody tr th {\n",
       "        vertical-align: top;\n",
       "    }\n",
       "\n",
       "    .dataframe thead th {\n",
       "        text-align: right;\n",
       "    }\n",
       "</style>\n",
       "<table border=\"1\" class=\"dataframe\">\n",
       "  <thead>\n",
       "    <tr style=\"text-align: right;\">\n",
       "      <th></th>\n",
       "      <th>index</th>\n",
       "      <th>uid</th>\n",
       "      <th>age</th>\n",
       "      <th>attraction_coeff</th>\n",
       "      <th>coins</th>\n",
       "      <th>country</th>\n",
       "      <th>visit_days</th>\n",
       "      <th>gender</th>\n",
       "      <th>age_filter_start</th>\n",
       "      <th>age_filter_end</th>\n",
       "      <th>views_count</th>\n",
       "      <th>was_premium</th>\n",
       "      <th>is_premium</th>\n",
       "      <th>total_revenue</th>\n",
       "      <th>group</th>\n",
       "    </tr>\n",
       "  </thead>\n",
       "  <tbody>\n",
       "    <tr>\n",
       "      <th>0</th>\n",
       "      <td>0</td>\n",
       "      <td>892309896</td>\n",
       "      <td>27</td>\n",
       "      <td>685</td>\n",
       "      <td>NaN</td>\n",
       "      <td>United States of America</td>\n",
       "      <td>1,2,3,4,5,6,7,8,9,10,11,12,16,17</td>\n",
       "      <td>1</td>\n",
       "      <td>24</td>\n",
       "      <td>30</td>\n",
       "      <td>89</td>\n",
       "      <td>NaN</td>\n",
       "      <td>NaN</td>\n",
       "      <td>0</td>\n",
       "      <td>test</td>\n",
       "    </tr>\n",
       "    <tr>\n",
       "      <th>1</th>\n",
       "      <td>1</td>\n",
       "      <td>892044516</td>\n",
       "      <td>27</td>\n",
       "      <td>0</td>\n",
       "      <td>NaN</td>\n",
       "      <td>Germany</td>\n",
       "      <td>NaN</td>\n",
       "      <td>1</td>\n",
       "      <td>24</td>\n",
       "      <td>30</td>\n",
       "      <td>0</td>\n",
       "      <td>NaN</td>\n",
       "      <td>NaN</td>\n",
       "      <td>0</td>\n",
       "      <td>test</td>\n",
       "    </tr>\n",
       "    <tr>\n",
       "      <th>2</th>\n",
       "      <td>2</td>\n",
       "      <td>892185708</td>\n",
       "      <td>45</td>\n",
       "      <td>44</td>\n",
       "      <td>NaN</td>\n",
       "      <td>Israel</td>\n",
       "      <td>1,3,4,6,7,8,10,11,12,13,14,15,16,17,18,19,20,2...</td>\n",
       "      <td>1</td>\n",
       "      <td>42</td>\n",
       "      <td>48</td>\n",
       "      <td>68</td>\n",
       "      <td>NaN</td>\n",
       "      <td>NaN</td>\n",
       "      <td>0</td>\n",
       "      <td>test</td>\n",
       "    </tr>\n",
       "  </tbody>\n",
       "</table>\n",
       "</div>"
      ],
      "text/plain": [
       "   index        uid  age  attraction_coeff  coins                   country  \\\n",
       "0      0  892309896   27               685    NaN  United States of America   \n",
       "1      1  892044516   27                 0    NaN                   Germany   \n",
       "2      2  892185708   45                44    NaN                    Israel   \n",
       "\n",
       "                                          visit_days  gender  \\\n",
       "0                   1,2,3,4,5,6,7,8,9,10,11,12,16,17       1   \n",
       "1                                                NaN       1   \n",
       "2  1,3,4,6,7,8,10,11,12,13,14,15,16,17,18,19,20,2...       1   \n",
       "\n",
       "   age_filter_start  age_filter_end  views_count  was_premium  is_premium  \\\n",
       "0                24              30           89          NaN         NaN   \n",
       "1                24              30            0          NaN         NaN   \n",
       "2                42              48           68          NaN         NaN   \n",
       "\n",
       "   total_revenue group  \n",
       "0              0  test  \n",
       "1              0  test  \n",
       "2              0  test  "
      ]
     },
     "execution_count": 949,
     "metadata": {},
     "output_type": "execute_result"
    }
   ],
   "source": [
    "users.head(3)"
   ]
  },
  {
   "cell_type": "markdown",
   "metadata": {},
   "source": [
    "Теперь изучим информацию о платежах"
   ]
  },
  {
   "cell_type": "code",
   "execution_count": 950,
   "metadata": {},
   "outputs": [
    {
     "data": {
      "text/html": [
       "<div>\n",
       "<style scoped>\n",
       "    .dataframe tbody tr th:only-of-type {\n",
       "        vertical-align: middle;\n",
       "    }\n",
       "\n",
       "    .dataframe tbody tr th {\n",
       "        vertical-align: top;\n",
       "    }\n",
       "\n",
       "    .dataframe thead th {\n",
       "        text-align: right;\n",
       "    }\n",
       "</style>\n",
       "<table border=\"1\" class=\"dataframe\">\n",
       "  <thead>\n",
       "    <tr style=\"text-align: right;\">\n",
       "      <th></th>\n",
       "      <th>uid</th>\n",
       "      <th>country</th>\n",
       "      <th>joined_at</th>\n",
       "      <th>paid_at</th>\n",
       "      <th>revenue</th>\n",
       "      <th>payment_id</th>\n",
       "      <th>from_page</th>\n",
       "      <th>product_type</th>\n",
       "    </tr>\n",
       "  </thead>\n",
       "  <tbody>\n",
       "    <tr>\n",
       "      <th>0</th>\n",
       "      <td>891345942</td>\n",
       "      <td>Italy</td>\n",
       "      <td>2017-05-11 13:00:00</td>\n",
       "      <td>2017-11-13 15:04:00</td>\n",
       "      <td>12909</td>\n",
       "      <td>147</td>\n",
       "      <td>trial_vip_popup</td>\n",
       "      <td>trial_premium</td>\n",
       "    </tr>\n",
       "    <tr>\n",
       "      <th>1</th>\n",
       "      <td>892054251</td>\n",
       "      <td>United States of America</td>\n",
       "      <td>2017-10-22 00:33:00</td>\n",
       "      <td>2017-10-30 01:37:00</td>\n",
       "      <td>13923</td>\n",
       "      <td>147</td>\n",
       "      <td>trial_vip_popup</td>\n",
       "      <td>trial_premium</td>\n",
       "    </tr>\n",
       "    <tr>\n",
       "      <th>2</th>\n",
       "      <td>892236423</td>\n",
       "      <td>United States of America</td>\n",
       "      <td>2017-10-18 01:09:00</td>\n",
       "      <td>2017-10-23 00:15:00</td>\n",
       "      <td>3783</td>\n",
       "      <td>67</td>\n",
       "      <td>menu</td>\n",
       "      <td>other_type</td>\n",
       "    </tr>\n",
       "  </tbody>\n",
       "</table>\n",
       "</div>"
      ],
      "text/plain": [
       "         uid                   country            joined_at  \\\n",
       "0  891345942                     Italy  2017-05-11 13:00:00   \n",
       "1  892054251  United States of America  2017-10-22 00:33:00   \n",
       "2  892236423  United States of America  2017-10-18 01:09:00   \n",
       "\n",
       "               paid_at  revenue  payment_id        from_page   product_type  \n",
       "0  2017-11-13 15:04:00    12909         147  trial_vip_popup  trial_premium  \n",
       "1  2017-10-30 01:37:00    13923         147  trial_vip_popup  trial_premium  \n",
       "2  2017-10-23 00:15:00     3783          67             menu     other_type  "
      ]
     },
     "execution_count": 950,
     "metadata": {},
     "output_type": "execute_result"
    }
   ],
   "source": [
    "transactions_test.head(3)"
   ]
  },
  {
   "cell_type": "code",
   "execution_count": 951,
   "metadata": {},
   "outputs": [
    {
     "data": {
      "text/plain": [
       "uid              int64\n",
       "country         object\n",
       "joined_at       object\n",
       "paid_at         object\n",
       "revenue          int64\n",
       "payment_id       int64\n",
       "from_page       object\n",
       "product_type    object\n",
       "dtype: object"
      ]
     },
     "execution_count": 951,
     "metadata": {},
     "output_type": "execute_result"
    }
   ],
   "source": [
    "transactions_test.dtypes"
   ]
  },
  {
   "cell_type": "code",
   "execution_count": 952,
   "metadata": {},
   "outputs": [
    {
     "data": {
      "text/plain": [
       "uid             float64\n",
       "country          object\n",
       "joined_at        object\n",
       "paid_at          object\n",
       "revenue         float64\n",
       "payment_id      float64\n",
       "from_page        object\n",
       "product_type     object\n",
       "dtype: object"
      ]
     },
     "execution_count": 952,
     "metadata": {},
     "output_type": "execute_result"
    }
   ],
   "source": [
    "transactions_control_1.dtypes"
   ]
  },
  {
   "cell_type": "code",
   "execution_count": 953,
   "metadata": {},
   "outputs": [
    {
     "data": {
      "text/plain": [
       "uid              int64\n",
       "country         object\n",
       "joined_at       object\n",
       "paid_at         object\n",
       "revenue          int64\n",
       "payment_id       int64\n",
       "from_page       object\n",
       "product_type    object\n",
       "dtype: object"
      ]
     },
     "execution_count": 953,
     "metadata": {},
     "output_type": "execute_result"
    }
   ],
   "source": [
    "transactions_control_2.dtypes"
   ]
  },
  {
   "cell_type": "markdown",
   "metadata": {},
   "source": [
    "Столбцы с датой во всех трех таблицах формата object, исправляем это и приводим к типу данных date"
   ]
  },
  {
   "cell_type": "code",
   "execution_count": 954,
   "metadata": {},
   "outputs": [],
   "source": [
    "transactions_test.joined_at = pd.to_datetime(transactions_test.joined_at)\n",
    "transactions_test.paid_at = pd.to_datetime(transactions_test.paid_at)\n",
    "transactions_control_1.joined_at = pd.to_datetime(transactions_control_1.joined_at)\n",
    "transactions_control_1.paid_at = pd.to_datetime(transactions_control_1.paid_at)\n",
    "transactions_control_2.joined_at = pd.to_datetime(transactions_control_2.joined_at)\n",
    "transactions_control_2.paid_at = pd.to_datetime(transactions_control_2.paid_at)"
   ]
  },
  {
   "cell_type": "code",
   "execution_count": 955,
   "metadata": {},
   "outputs": [
    {
     "data": {
      "text/plain": [
       "uid             0\n",
       "country         0\n",
       "joined_at       0\n",
       "paid_at         0\n",
       "revenue         0\n",
       "payment_id      0\n",
       "from_page       0\n",
       "product_type    0\n",
       "dtype: int64"
      ]
     },
     "execution_count": 955,
     "metadata": {},
     "output_type": "execute_result"
    }
   ],
   "source": [
    "transactions_test.isna().sum()"
   ]
  },
  {
   "cell_type": "code",
   "execution_count": 956,
   "metadata": {},
   "outputs": [
    {
     "data": {
      "text/plain": [
       "uid             630\n",
       "country         630\n",
       "joined_at       630\n",
       "paid_at         630\n",
       "revenue         630\n",
       "payment_id      630\n",
       "from_page       630\n",
       "product_type    630\n",
       "dtype: int64"
      ]
     },
     "execution_count": 956,
     "metadata": {},
     "output_type": "execute_result"
    }
   ],
   "source": [
    "transactions_control_1.isna().sum()"
   ]
  },
  {
   "cell_type": "code",
   "execution_count": 957,
   "metadata": {},
   "outputs": [
    {
     "data": {
      "text/plain": [
       "uid             0\n",
       "country         0\n",
       "joined_at       0\n",
       "paid_at         0\n",
       "revenue         0\n",
       "payment_id      0\n",
       "from_page       0\n",
       "product_type    0\n",
       "dtype: int64"
      ]
     },
     "execution_count": 957,
     "metadata": {},
     "output_type": "execute_result"
    }
   ],
   "source": [
    "transactions_control_2.isna().sum()"
   ]
  },
  {
   "cell_type": "markdown",
   "metadata": {},
   "source": [
    "В таблице transactions_control_1 много пропущенных значений, 630 строк заполненны некорректно. Для проведения дальнейших исследований, будет целесообразнее избавиться от этих строк."
   ]
  },
  {
   "cell_type": "code",
   "execution_count": 958,
   "metadata": {},
   "outputs": [],
   "source": [
    "transactions_control_1 = transactions_control_1.dropna()"
   ]
  },
  {
   "cell_type": "code",
   "execution_count": 959,
   "metadata": {},
   "outputs": [
    {
     "data": {
      "text/plain": [
       "(273, 377, 328)"
      ]
     },
     "execution_count": 959,
     "metadata": {},
     "output_type": "execute_result"
    }
   ],
   "source": [
    "transactions_test.shape[0], transactions_control_1.shape[0],transactions_control_2.shape[0]"
   ]
  },
  {
   "cell_type": "code",
   "execution_count": 960,
   "metadata": {},
   "outputs": [
    {
     "data": {
      "text/plain": [
       "(146, 193, 187)"
      ]
     },
     "execution_count": 960,
     "metadata": {},
     "output_type": "execute_result"
    }
   ],
   "source": [
    "transactions_test.uid.nunique(),transactions_control_1.uid.nunique(),transactions_control_2.uid.nunique()"
   ]
  },
  {
   "cell_type": "markdown",
   "metadata": {},
   "source": [
    "Проверим на дубликаты"
   ]
  },
  {
   "cell_type": "code",
   "execution_count": 961,
   "metadata": {},
   "outputs": [
    {
     "data": {
      "text/plain": [
       "(7, 21, 5)"
      ]
     },
     "execution_count": 961,
     "metadata": {},
     "output_type": "execute_result"
    }
   ],
   "source": [
    "transactions_test.duplicated().sum(),transactions_control_1.duplicated().sum(),transactions_control_2.duplicated().sum()"
   ]
  },
  {
   "cell_type": "markdown",
   "metadata": {},
   "source": [
    "Предлагаю удалить задублированные строки"
   ]
  },
  {
   "cell_type": "code",
   "execution_count": 962,
   "metadata": {},
   "outputs": [],
   "source": [
    "transactions_test=transactions_test.drop_duplicates()"
   ]
  },
  {
   "cell_type": "code",
   "execution_count": 963,
   "metadata": {},
   "outputs": [],
   "source": [
    "transactions_control_1=transactions_control_1.drop_duplicates()"
   ]
  },
  {
   "cell_type": "code",
   "execution_count": 964,
   "metadata": {},
   "outputs": [],
   "source": [
    "transactions_control_2=transactions_control_2.drop_duplicates()"
   ]
  },
  {
   "cell_type": "code",
   "execution_count": 965,
   "metadata": {},
   "outputs": [
    {
     "data": {
      "text/plain": [
       "(0, 0, 0)"
      ]
     },
     "execution_count": 965,
     "metadata": {},
     "output_type": "execute_result"
    }
   ],
   "source": [
    "transactions_test.duplicated().sum(),transactions_control_1.duplicated().sum(),transactions_control_2.duplicated().sum()"
   ]
  },
  {
   "cell_type": "markdown",
   "metadata": {},
   "source": [
    "А также сделаем целочисленными id наших пользователей в таблице transactions_control_1"
   ]
  },
  {
   "cell_type": "code",
   "execution_count": 966,
   "metadata": {},
   "outputs": [],
   "source": [
    "transactions_control_1['uid'] = transactions_control_1['uid'].astype(np.int64)"
   ]
  },
  {
   "cell_type": "markdown",
   "metadata": {},
   "source": [
    "Объединим датафреймы с информацией о платежах"
   ]
  },
  {
   "cell_type": "code",
   "execution_count": 967,
   "metadata": {},
   "outputs": [],
   "source": [
    "transactions_test['group'] = 'test'\n",
    "transactions_control_1['group'] = 'control_1'\n",
    "transactions_control_2['group'] = 'control_2'"
   ]
  },
  {
   "cell_type": "code",
   "execution_count": 968,
   "metadata": {},
   "outputs": [],
   "source": [
    "transactions = pd.concat([transactions_test, transactions_control_1, transactions_control_2]).reset_index()"
   ]
  },
  {
   "cell_type": "code",
   "execution_count": 969,
   "metadata": {},
   "outputs": [
    {
     "data": {
      "text/html": [
       "<div>\n",
       "<style scoped>\n",
       "    .dataframe tbody tr th:only-of-type {\n",
       "        vertical-align: middle;\n",
       "    }\n",
       "\n",
       "    .dataframe tbody tr th {\n",
       "        vertical-align: top;\n",
       "    }\n",
       "\n",
       "    .dataframe thead th {\n",
       "        text-align: right;\n",
       "    }\n",
       "</style>\n",
       "<table border=\"1\" class=\"dataframe\">\n",
       "  <thead>\n",
       "    <tr style=\"text-align: right;\">\n",
       "      <th></th>\n",
       "      <th>index</th>\n",
       "      <th>uid</th>\n",
       "      <th>country</th>\n",
       "      <th>joined_at</th>\n",
       "      <th>paid_at</th>\n",
       "      <th>revenue</th>\n",
       "      <th>payment_id</th>\n",
       "      <th>from_page</th>\n",
       "      <th>product_type</th>\n",
       "      <th>group</th>\n",
       "    </tr>\n",
       "  </thead>\n",
       "  <tbody>\n",
       "    <tr>\n",
       "      <th>0</th>\n",
       "      <td>0</td>\n",
       "      <td>891345942</td>\n",
       "      <td>Italy</td>\n",
       "      <td>2017-05-11 13:00:00</td>\n",
       "      <td>2017-11-13 15:04:00</td>\n",
       "      <td>12909.0</td>\n",
       "      <td>147.0</td>\n",
       "      <td>trial_vip_popup</td>\n",
       "      <td>trial_premium</td>\n",
       "      <td>test</td>\n",
       "    </tr>\n",
       "    <tr>\n",
       "      <th>1</th>\n",
       "      <td>1</td>\n",
       "      <td>892054251</td>\n",
       "      <td>United States of America</td>\n",
       "      <td>2017-10-22 00:33:00</td>\n",
       "      <td>2017-10-30 01:37:00</td>\n",
       "      <td>13923.0</td>\n",
       "      <td>147.0</td>\n",
       "      <td>trial_vip_popup</td>\n",
       "      <td>trial_premium</td>\n",
       "      <td>test</td>\n",
       "    </tr>\n",
       "    <tr>\n",
       "      <th>2</th>\n",
       "      <td>2</td>\n",
       "      <td>892236423</td>\n",
       "      <td>United States of America</td>\n",
       "      <td>2017-10-18 01:09:00</td>\n",
       "      <td>2017-10-23 00:15:00</td>\n",
       "      <td>3783.0</td>\n",
       "      <td>67.0</td>\n",
       "      <td>menu</td>\n",
       "      <td>other_type</td>\n",
       "      <td>test</td>\n",
       "    </tr>\n",
       "  </tbody>\n",
       "</table>\n",
       "</div>"
      ],
      "text/plain": [
       "   index        uid                   country           joined_at  \\\n",
       "0      0  891345942                     Italy 2017-05-11 13:00:00   \n",
       "1      1  892054251  United States of America 2017-10-22 00:33:00   \n",
       "2      2  892236423  United States of America 2017-10-18 01:09:00   \n",
       "\n",
       "              paid_at  revenue  payment_id        from_page   product_type  \\\n",
       "0 2017-11-13 15:04:00  12909.0       147.0  trial_vip_popup  trial_premium   \n",
       "1 2017-10-30 01:37:00  13923.0       147.0  trial_vip_popup  trial_premium   \n",
       "2 2017-10-23 00:15:00   3783.0        67.0             menu     other_type   \n",
       "\n",
       "  group  \n",
       "0  test  \n",
       "1  test  \n",
       "2  test  "
      ]
     },
     "execution_count": 969,
     "metadata": {},
     "output_type": "execute_result"
    }
   ],
   "source": [
    "transactions.head(3)"
   ]
  },
  {
   "cell_type": "markdown",
   "metadata": {},
   "source": [
    "Посмотрим общее описание объединенного датафрема по платежам"
   ]
  },
  {
   "cell_type": "code",
   "execution_count": 970,
   "metadata": {},
   "outputs": [
    {
     "data": {
      "text/html": [
       "<div>\n",
       "<style scoped>\n",
       "    .dataframe tbody tr th:only-of-type {\n",
       "        vertical-align: middle;\n",
       "    }\n",
       "\n",
       "    .dataframe tbody tr th {\n",
       "        vertical-align: top;\n",
       "    }\n",
       "\n",
       "    .dataframe thead th {\n",
       "        text-align: right;\n",
       "    }\n",
       "</style>\n",
       "<table border=\"1\" class=\"dataframe\">\n",
       "  <thead>\n",
       "    <tr style=\"text-align: right;\">\n",
       "      <th></th>\n",
       "      <th>index</th>\n",
       "      <th>uid</th>\n",
       "      <th>revenue</th>\n",
       "      <th>payment_id</th>\n",
       "    </tr>\n",
       "  </thead>\n",
       "  <tbody>\n",
       "    <tr>\n",
       "      <th>count</th>\n",
       "      <td>945.000000</td>\n",
       "      <td>9.450000e+02</td>\n",
       "      <td>945.000000</td>\n",
       "      <td>945.000000</td>\n",
       "    </tr>\n",
       "    <tr>\n",
       "      <th>mean</th>\n",
       "      <td>163.382011</td>\n",
       "      <td>8.920329e+08</td>\n",
       "      <td>7127.012698</td>\n",
       "      <td>96.546032</td>\n",
       "    </tr>\n",
       "    <tr>\n",
       "      <th>std</th>\n",
       "      <td>98.651464</td>\n",
       "      <td>3.909647e+06</td>\n",
       "      <td>8689.031007</td>\n",
       "      <td>57.678226</td>\n",
       "    </tr>\n",
       "    <tr>\n",
       "      <th>min</th>\n",
       "      <td>0.000000</td>\n",
       "      <td>8.910681e+08</td>\n",
       "      <td>26.000000</td>\n",
       "      <td>0.000000</td>\n",
       "    </tr>\n",
       "    <tr>\n",
       "      <th>25%</th>\n",
       "      <td>79.000000</td>\n",
       "      <td>8.914785e+08</td>\n",
       "      <td>2730.000000</td>\n",
       "      <td>19.000000</td>\n",
       "    </tr>\n",
       "    <tr>\n",
       "      <th>50%</th>\n",
       "      <td>160.000000</td>\n",
       "      <td>8.918616e+08</td>\n",
       "      <td>6292.000000</td>\n",
       "      <td>146.000000</td>\n",
       "    </tr>\n",
       "    <tr>\n",
       "      <th>75%</th>\n",
       "      <td>242.000000</td>\n",
       "      <td>8.921398e+08</td>\n",
       "      <td>9087.000000</td>\n",
       "      <td>147.000000</td>\n",
       "    </tr>\n",
       "    <tr>\n",
       "      <th>max</th>\n",
       "      <td>376.000000</td>\n",
       "      <td>9.609370e+08</td>\n",
       "      <td>113477.000000</td>\n",
       "      <td>147.000000</td>\n",
       "    </tr>\n",
       "  </tbody>\n",
       "</table>\n",
       "</div>"
      ],
      "text/plain": [
       "            index           uid        revenue  payment_id\n",
       "count  945.000000  9.450000e+02     945.000000  945.000000\n",
       "mean   163.382011  8.920329e+08    7127.012698   96.546032\n",
       "std     98.651464  3.909647e+06    8689.031007   57.678226\n",
       "min      0.000000  8.910681e+08      26.000000    0.000000\n",
       "25%     79.000000  8.914785e+08    2730.000000   19.000000\n",
       "50%    160.000000  8.918616e+08    6292.000000  146.000000\n",
       "75%    242.000000  8.921398e+08    9087.000000  147.000000\n",
       "max    376.000000  9.609370e+08  113477.000000  147.000000"
      ]
     },
     "execution_count": 970,
     "metadata": {},
     "output_type": "execute_result"
    }
   ],
   "source": [
    "transactions.describe()"
   ]
  },
  {
   "cell_type": "markdown",
   "metadata": {},
   "source": [
    "Средний чек равен 7127, всего было проведено 945 транзакций"
   ]
  },
  {
   "cell_type": "markdown",
   "metadata": {},
   "source": [
    "Мы знаем, что был проведен A/B тест, в рамках которого для новых пользователей из нескольких стран при покупке через две новые платежные системы была изменена стоимость премиум-подписки. \n",
    "\n",
    "Т.е. нам необходимо выяснить в каких странах были изменения, определить нужный период и выделить две новые платежные системы и оставить только их для чистоты эсперимента."
   ]
  },
  {
   "cell_type": "markdown",
   "metadata": {},
   "source": [
    "Оставим те страны, которые присутствуеют только в тестовой группе"
   ]
  },
  {
   "cell_type": "code",
   "execution_count": 971,
   "metadata": {},
   "outputs": [],
   "source": [
    "country=users.groupby(['country', 'group'],as_index = False).agg({'uid':'count'})\n",
    "pivot = country.pivot_table(index = 'country', columns='group', values='uid',\n",
    "    fill_value=0).reset_index()"
   ]
  },
  {
   "cell_type": "code",
   "execution_count": 972,
   "metadata": {},
   "outputs": [
    {
     "data": {
      "text/html": [
       "<div>\n",
       "<style scoped>\n",
       "    .dataframe tbody tr th:only-of-type {\n",
       "        vertical-align: middle;\n",
       "    }\n",
       "\n",
       "    .dataframe tbody tr th {\n",
       "        vertical-align: top;\n",
       "    }\n",
       "\n",
       "    .dataframe thead th {\n",
       "        text-align: right;\n",
       "    }\n",
       "</style>\n",
       "<table border=\"1\" class=\"dataframe\">\n",
       "  <thead>\n",
       "    <tr style=\"text-align: right;\">\n",
       "      <th></th>\n",
       "      <th>country</th>\n",
       "      <th>group</th>\n",
       "      <th>uid</th>\n",
       "    </tr>\n",
       "  </thead>\n",
       "  <tbody>\n",
       "    <tr>\n",
       "      <th>0</th>\n",
       "      <td>Algeria</td>\n",
       "      <td>control_1</td>\n",
       "      <td>2</td>\n",
       "    </tr>\n",
       "    <tr>\n",
       "      <th>1</th>\n",
       "      <td>Algeria</td>\n",
       "      <td>test</td>\n",
       "      <td>2</td>\n",
       "    </tr>\n",
       "    <tr>\n",
       "      <th>2</th>\n",
       "      <td>Argentina</td>\n",
       "      <td>control_1</td>\n",
       "      <td>389</td>\n",
       "    </tr>\n",
       "    <tr>\n",
       "      <th>3</th>\n",
       "      <td>Argentina</td>\n",
       "      <td>control_2</td>\n",
       "      <td>397</td>\n",
       "    </tr>\n",
       "    <tr>\n",
       "      <th>4</th>\n",
       "      <td>Argentina</td>\n",
       "      <td>test</td>\n",
       "      <td>396</td>\n",
       "    </tr>\n",
       "    <tr>\n",
       "      <th>...</th>\n",
       "      <td>...</td>\n",
       "      <td>...</td>\n",
       "      <td>...</td>\n",
       "    </tr>\n",
       "    <tr>\n",
       "      <th>131</th>\n",
       "      <td>United States of America</td>\n",
       "      <td>test</td>\n",
       "      <td>1450</td>\n",
       "    </tr>\n",
       "    <tr>\n",
       "      <th>132</th>\n",
       "      <td>Uruguay</td>\n",
       "      <td>control_2</td>\n",
       "      <td>1</td>\n",
       "    </tr>\n",
       "    <tr>\n",
       "      <th>133</th>\n",
       "      <td>Uruguay</td>\n",
       "      <td>test</td>\n",
       "      <td>1</td>\n",
       "    </tr>\n",
       "    <tr>\n",
       "      <th>134</th>\n",
       "      <td>Uzbekistan</td>\n",
       "      <td>test</td>\n",
       "      <td>1</td>\n",
       "    </tr>\n",
       "    <tr>\n",
       "      <th>135</th>\n",
       "      <td>Venezuela</td>\n",
       "      <td>control_1</td>\n",
       "      <td>2</td>\n",
       "    </tr>\n",
       "  </tbody>\n",
       "</table>\n",
       "<p>136 rows × 3 columns</p>\n",
       "</div>"
      ],
      "text/plain": [
       "                      country      group   uid\n",
       "0                     Algeria  control_1     2\n",
       "1                     Algeria       test     2\n",
       "2                   Argentina  control_1   389\n",
       "3                   Argentina  control_2   397\n",
       "4                   Argentina       test   396\n",
       "..                        ...        ...   ...\n",
       "131  United States of America       test  1450\n",
       "132                   Uruguay  control_2     1\n",
       "133                   Uruguay       test     1\n",
       "134                Uzbekistan       test     1\n",
       "135                 Venezuela  control_1     2\n",
       "\n",
       "[136 rows x 3 columns]"
      ]
     },
     "execution_count": 972,
     "metadata": {},
     "output_type": "execute_result"
    }
   ],
   "source": [
    "country"
   ]
  },
  {
   "cell_type": "code",
   "execution_count": 973,
   "metadata": {},
   "outputs": [],
   "source": [
    "pivot = pivot.query('test != 0')"
   ]
  },
  {
   "cell_type": "code",
   "execution_count": 974,
   "metadata": {},
   "outputs": [],
   "source": [
    "pivot = pivot.country"
   ]
  },
  {
   "cell_type": "code",
   "execution_count": 975,
   "metadata": {},
   "outputs": [],
   "source": [
    "transactions_control_1 = transactions_control_1.query('country in @pivot')"
   ]
  },
  {
   "cell_type": "code",
   "execution_count": 976,
   "metadata": {},
   "outputs": [],
   "source": [
    "transactions_control_2 = transactions_control_2.query('country in @pivot')"
   ]
  },
  {
   "cell_type": "code",
   "execution_count": 977,
   "metadata": {},
   "outputs": [],
   "source": [
    "transactions_test = transactions_test.query('country in @pivot')"
   ]
  },
  {
   "cell_type": "code",
   "execution_count": 978,
   "metadata": {},
   "outputs": [],
   "source": [
    "users_control_1 = users_control_1.query('country in @pivot')"
   ]
  },
  {
   "cell_type": "code",
   "execution_count": 979,
   "metadata": {},
   "outputs": [],
   "source": [
    "users_control_2 = users_control_2.query('country in @pivot')"
   ]
  },
  {
   "cell_type": "code",
   "execution_count": 980,
   "metadata": {},
   "outputs": [],
   "source": [
    "users_test = users_test.query('country in @pivot')"
   ]
  },
  {
   "cell_type": "code",
   "execution_count": 981,
   "metadata": {},
   "outputs": [],
   "source": [
    "users = users.query('country in @pivot')"
   ]
  },
  {
   "cell_type": "code",
   "execution_count": 982,
   "metadata": {},
   "outputs": [],
   "source": [
    "transactions = transactions.query('country in @pivot')"
   ]
  },
  {
   "cell_type": "markdown",
   "metadata": {},
   "source": [
    "Оставим только новые платежные системы, через которые проходят транзакции наших премиум-пользователей"
   ]
  },
  {
   "cell_type": "markdown",
   "metadata": {},
   "source": [
    "Приведем там данных в столбце payment_id к int (целым числам), так как в других датафреймах номер платежной системы задан в этом формате "
   ]
  },
  {
   "cell_type": "code",
   "execution_count": 983,
   "metadata": {},
   "outputs": [],
   "source": [
    "transactions_control_1['payment_id']= transactions_control_1['payment_id'].astype(np.int64)"
   ]
  },
  {
   "cell_type": "markdown",
   "metadata": {},
   "source": [
    "Сгруппируем данные по платежным системам и поставим фильтр только на транзакции premium_no_trial (премиум подписка - не пробный период)"
   ]
  },
  {
   "cell_type": "code",
   "execution_count": 984,
   "metadata": {},
   "outputs": [
    {
     "data": {
      "text/html": [
       "<div>\n",
       "<style scoped>\n",
       "    .dataframe tbody tr th:only-of-type {\n",
       "        vertical-align: middle;\n",
       "    }\n",
       "\n",
       "    .dataframe tbody tr th {\n",
       "        vertical-align: top;\n",
       "    }\n",
       "\n",
       "    .dataframe thead th {\n",
       "        text-align: right;\n",
       "    }\n",
       "</style>\n",
       "<table border=\"1\" class=\"dataframe\">\n",
       "  <thead>\n",
       "    <tr style=\"text-align: right;\">\n",
       "      <th></th>\n",
       "      <th>payment_id</th>\n",
       "      <th>product_type</th>\n",
       "      <th>uid</th>\n",
       "    </tr>\n",
       "  </thead>\n",
       "  <tbody>\n",
       "    <tr>\n",
       "      <th>1</th>\n",
       "      <td>0</td>\n",
       "      <td>premium_no_trial</td>\n",
       "      <td>2</td>\n",
       "    </tr>\n",
       "    <tr>\n",
       "      <th>6</th>\n",
       "      <td>68</td>\n",
       "      <td>premium_no_trial</td>\n",
       "      <td>16</td>\n",
       "    </tr>\n",
       "    <tr>\n",
       "      <th>9</th>\n",
       "      <td>147</td>\n",
       "      <td>premium_no_trial</td>\n",
       "      <td>88</td>\n",
       "    </tr>\n",
       "  </tbody>\n",
       "</table>\n",
       "</div>"
      ],
      "text/plain": [
       "   payment_id      product_type  uid\n",
       "1           0  premium_no_trial    2\n",
       "6          68  premium_no_trial   16\n",
       "9         147  premium_no_trial   88"
      ]
     },
     "execution_count": 984,
     "metadata": {},
     "output_type": "execute_result"
    }
   ],
   "source": [
    "transactions_control_1.groupby(['payment_id','product_type'],as_index = False).agg({'uid':'count'}).query('product_type == \"premium_no_trial\"')"
   ]
  },
  {
   "cell_type": "code",
   "execution_count": 985,
   "metadata": {},
   "outputs": [
    {
     "data": {
      "text/html": [
       "<div>\n",
       "<style scoped>\n",
       "    .dataframe tbody tr th:only-of-type {\n",
       "        vertical-align: middle;\n",
       "    }\n",
       "\n",
       "    .dataframe tbody tr th {\n",
       "        vertical-align: top;\n",
       "    }\n",
       "\n",
       "    .dataframe thead th {\n",
       "        text-align: right;\n",
       "    }\n",
       "</style>\n",
       "<table border=\"1\" class=\"dataframe\">\n",
       "  <thead>\n",
       "    <tr style=\"text-align: right;\">\n",
       "      <th></th>\n",
       "      <th>payment_id</th>\n",
       "      <th>product_type</th>\n",
       "      <th>uid</th>\n",
       "    </tr>\n",
       "  </thead>\n",
       "  <tbody>\n",
       "    <tr>\n",
       "      <th>0</th>\n",
       "      <td>0</td>\n",
       "      <td>premium_no_trial</td>\n",
       "      <td>1</td>\n",
       "    </tr>\n",
       "    <tr>\n",
       "      <th>4</th>\n",
       "      <td>68</td>\n",
       "      <td>premium_no_trial</td>\n",
       "      <td>13</td>\n",
       "    </tr>\n",
       "    <tr>\n",
       "      <th>6</th>\n",
       "      <td>147</td>\n",
       "      <td>premium_no_trial</td>\n",
       "      <td>92</td>\n",
       "    </tr>\n",
       "  </tbody>\n",
       "</table>\n",
       "</div>"
      ],
      "text/plain": [
       "   payment_id      product_type  uid\n",
       "0           0  premium_no_trial    1\n",
       "4          68  premium_no_trial   13\n",
       "6         147  premium_no_trial   92"
      ]
     },
     "execution_count": 985,
     "metadata": {},
     "output_type": "execute_result"
    }
   ],
   "source": [
    "transactions_control_2.groupby(['payment_id','product_type'],as_index = False).agg({'uid':'count'}).query('product_type == \"premium_no_trial\"')"
   ]
  },
  {
   "cell_type": "code",
   "execution_count": 986,
   "metadata": {},
   "outputs": [
    {
     "data": {
      "text/html": [
       "<div>\n",
       "<style scoped>\n",
       "    .dataframe tbody tr th:only-of-type {\n",
       "        vertical-align: middle;\n",
       "    }\n",
       "\n",
       "    .dataframe tbody tr th {\n",
       "        vertical-align: top;\n",
       "    }\n",
       "\n",
       "    .dataframe thead th {\n",
       "        text-align: right;\n",
       "    }\n",
       "</style>\n",
       "<table border=\"1\" class=\"dataframe\">\n",
       "  <thead>\n",
       "    <tr style=\"text-align: right;\">\n",
       "      <th></th>\n",
       "      <th>payment_id</th>\n",
       "      <th>product_type</th>\n",
       "      <th>uid</th>\n",
       "    </tr>\n",
       "  </thead>\n",
       "  <tbody>\n",
       "    <tr>\n",
       "      <th>0</th>\n",
       "      <td>0</td>\n",
       "      <td>premium_no_trial</td>\n",
       "      <td>1</td>\n",
       "    </tr>\n",
       "    <tr>\n",
       "      <th>5</th>\n",
       "      <td>68</td>\n",
       "      <td>premium_no_trial</td>\n",
       "      <td>12</td>\n",
       "    </tr>\n",
       "    <tr>\n",
       "      <th>7</th>\n",
       "      <td>147</td>\n",
       "      <td>premium_no_trial</td>\n",
       "      <td>63</td>\n",
       "    </tr>\n",
       "  </tbody>\n",
       "</table>\n",
       "</div>"
      ],
      "text/plain": [
       "   payment_id      product_type  uid\n",
       "0           0  premium_no_trial    1\n",
       "5          68  premium_no_trial   12\n",
       "7         147  premium_no_trial   63"
      ]
     },
     "execution_count": 986,
     "metadata": {},
     "output_type": "execute_result"
    }
   ],
   "source": [
    "transactions_test.groupby(['payment_id','product_type'],as_index = False).agg({'uid':'count'}).query('product_type == \"premium_no_trial\"')"
   ]
  },
  {
   "cell_type": "markdown",
   "metadata": {},
   "source": [
    "Давайте посмотрим, какую платежную систему использовали пользователи до начала проведения экперимента"
   ]
  },
  {
   "cell_type": "markdown",
   "metadata": {},
   "source": [
    "Крайние даты проведения экперимента"
   ]
  },
  {
   "cell_type": "code",
   "execution_count": 987,
   "metadata": {},
   "outputs": [
    {
     "data": {
      "text/plain": [
       "(Timestamp('2017-01-11 04:37:00'), Timestamp('2017-12-11 22:06:00'))"
      ]
     },
     "execution_count": 987,
     "metadata": {},
     "output_type": "execute_result"
    }
   ],
   "source": [
    "transactions_test.paid_at.min(), transactions_test.paid_at.max()"
   ]
  },
  {
   "cell_type": "code",
   "execution_count": 988,
   "metadata": {},
   "outputs": [
    {
     "data": {
      "text/html": [
       "<div>\n",
       "<style scoped>\n",
       "    .dataframe tbody tr th:only-of-type {\n",
       "        vertical-align: middle;\n",
       "    }\n",
       "\n",
       "    .dataframe tbody tr th {\n",
       "        vertical-align: top;\n",
       "    }\n",
       "\n",
       "    .dataframe thead th {\n",
       "        text-align: right;\n",
       "    }\n",
       "</style>\n",
       "<table border=\"1\" class=\"dataframe\">\n",
       "  <thead>\n",
       "    <tr style=\"text-align: right;\">\n",
       "      <th></th>\n",
       "      <th>index</th>\n",
       "      <th>uid</th>\n",
       "      <th>country</th>\n",
       "      <th>joined_at</th>\n",
       "      <th>paid_at</th>\n",
       "      <th>revenue</th>\n",
       "      <th>payment_id</th>\n",
       "      <th>from_page</th>\n",
       "      <th>product_type</th>\n",
       "      <th>group</th>\n",
       "    </tr>\n",
       "  </thead>\n",
       "  <tbody>\n",
       "    <tr>\n",
       "      <th>330</th>\n",
       "      <td>65</td>\n",
       "      <td>960936960</td>\n",
       "      <td>Russian Federation</td>\n",
       "      <td>2015-01-19 11:49:00</td>\n",
       "      <td>2016-12-14 17:30:00</td>\n",
       "      <td>26.0</td>\n",
       "      <td>0.0</td>\n",
       "      <td>refund_VP</td>\n",
       "      <td>other_type</td>\n",
       "      <td>control_1</td>\n",
       "    </tr>\n",
       "    <tr>\n",
       "      <th>364</th>\n",
       "      <td>101</td>\n",
       "      <td>960936960</td>\n",
       "      <td>Russian Federation</td>\n",
       "      <td>2015-01-19 11:49:00</td>\n",
       "      <td>2016-12-14 17:35:00</td>\n",
       "      <td>637.0</td>\n",
       "      <td>0.0</td>\n",
       "      <td>refung_AP</td>\n",
       "      <td>other_type</td>\n",
       "      <td>control_1</td>\n",
       "    </tr>\n",
       "    <tr>\n",
       "      <th>481</th>\n",
       "      <td>224</td>\n",
       "      <td>960936960</td>\n",
       "      <td>Russian Federation</td>\n",
       "      <td>2015-01-19 11:49:00</td>\n",
       "      <td>2016-12-14 16:16:00</td>\n",
       "      <td>143.0</td>\n",
       "      <td>0.0</td>\n",
       "      <td>refund_WP</td>\n",
       "      <td>other_type</td>\n",
       "      <td>control_1</td>\n",
       "    </tr>\n",
       "  </tbody>\n",
       "</table>\n",
       "</div>"
      ],
      "text/plain": [
       "     index        uid             country           joined_at  \\\n",
       "330     65  960936960  Russian Federation 2015-01-19 11:49:00   \n",
       "364    101  960936960  Russian Federation 2015-01-19 11:49:00   \n",
       "481    224  960936960  Russian Federation 2015-01-19 11:49:00   \n",
       "\n",
       "                paid_at  revenue  payment_id  from_page product_type  \\\n",
       "330 2016-12-14 17:30:00     26.0         0.0  refund_VP   other_type   \n",
       "364 2016-12-14 17:35:00    637.0         0.0  refung_AP   other_type   \n",
       "481 2016-12-14 16:16:00    143.0         0.0  refund_WP   other_type   \n",
       "\n",
       "         group  \n",
       "330  control_1  \n",
       "364  control_1  \n",
       "481  control_1  "
      ]
     },
     "execution_count": 988,
     "metadata": {},
     "output_type": "execute_result"
    }
   ],
   "source": [
    "transactions.query(\"group == 'control_1'\").query('paid_at < \"2017-01-11\"')"
   ]
  },
  {
   "cell_type": "markdown",
   "metadata": {},
   "source": [
    "Исключаем платежную систему 0, так как она не является новой и оставляем только 68 и 147"
   ]
  },
  {
   "cell_type": "code",
   "execution_count": 989,
   "metadata": {},
   "outputs": [],
   "source": [
    "transactions_control_1 = transactions_control_1.query('payment_id == 68 or payment_id == 147')"
   ]
  },
  {
   "cell_type": "code",
   "execution_count": 990,
   "metadata": {},
   "outputs": [],
   "source": [
    "transactions_control_2 = transactions_control_2.query('payment_id == 68 or payment_id == 147')"
   ]
  },
  {
   "cell_type": "code",
   "execution_count": 991,
   "metadata": {},
   "outputs": [],
   "source": [
    "transactions_test = transactions_test.query('payment_id == 68 or payment_id == 147')"
   ]
  },
  {
   "cell_type": "code",
   "execution_count": 992,
   "metadata": {},
   "outputs": [],
   "source": [
    "transactions= transactions.query('payment_id == 68 or payment_id == 147')"
   ]
  },
  {
   "cell_type": "markdown",
   "metadata": {},
   "source": [
    "Посмотрим на крайние даты транзакций в наших датафреймах и оставим данные только на период эсперимента"
   ]
  },
  {
   "cell_type": "code",
   "execution_count": 993,
   "metadata": {},
   "outputs": [
    {
     "data": {
      "text/plain": [
       "(Timestamp('2017-01-11 02:56:00'), Timestamp('2017-12-11 21:57:00'))"
      ]
     },
     "execution_count": 993,
     "metadata": {},
     "output_type": "execute_result"
    }
   ],
   "source": [
    "transactions_control_1.paid_at.min(), transactions_control_1.paid_at.max()"
   ]
  },
  {
   "cell_type": "code",
   "execution_count": 994,
   "metadata": {},
   "outputs": [
    {
     "data": {
      "text/plain": [
       "(Timestamp('2017-01-11 22:36:00'), Timestamp('2017-12-11 23:28:00'))"
      ]
     },
     "execution_count": 994,
     "metadata": {},
     "output_type": "execute_result"
    }
   ],
   "source": [
    "transactions_control_2.paid_at.min(), transactions_control_2.paid_at.max()"
   ]
  },
  {
   "cell_type": "code",
   "execution_count": 995,
   "metadata": {},
   "outputs": [
    {
     "data": {
      "text/plain": [
       "(Timestamp('2017-01-11 23:36:00'), Timestamp('2017-12-11 21:20:00'))"
      ]
     },
     "execution_count": 995,
     "metadata": {},
     "output_type": "execute_result"
    }
   ],
   "source": [
    "transactions_test.paid_at.min(), transactions_test.paid_at.max()"
   ]
  },
  {
   "cell_type": "code",
   "execution_count": 996,
   "metadata": {},
   "outputs": [],
   "source": [
    "transactions_control_1 =transactions_control_1.query('paid_at >= \"2017-01-11\"')"
   ]
  },
  {
   "cell_type": "code",
   "execution_count": 997,
   "metadata": {},
   "outputs": [],
   "source": [
    "transactions = transactions.query('paid_at >= \"2017-01-11\"')"
   ]
  },
  {
   "cell_type": "code",
   "execution_count": 998,
   "metadata": {},
   "outputs": [
    {
     "data": {
      "text/plain": [
       "(Timestamp('2017-01-11 02:56:00'), Timestamp('2017-12-11 21:57:00'))"
      ]
     },
     "execution_count": 998,
     "metadata": {},
     "output_type": "execute_result"
    }
   ],
   "source": [
    "transactions_control_1.paid_at.min(), transactions_control_1.paid_at.max()"
   ]
  },
  {
   "cell_type": "markdown",
   "metadata": {},
   "source": [
    "После удаления некорректных строк из таблицы transactions_control_1 данные осталось достаточно для сравнения трех групп."
   ]
  },
  {
   "cell_type": "markdown",
   "metadata": {},
   "source": [
    "Так как мы будем работать с платящими пользователями с премиум-подписками, проверим на логическое соответствие данные по таким пользователям"
   ]
  },
  {
   "cell_type": "markdown",
   "metadata": {},
   "source": [
    "Заменим Nan на 0 в колонках was_premium и is_premium, чтобы было удобней с ними работать"
   ]
  },
  {
   "cell_type": "code",
   "execution_count": 999,
   "metadata": {},
   "outputs": [],
   "source": [
    "users['was_premium'] = users['was_premium'].fillna(0).astype(int)"
   ]
  },
  {
   "cell_type": "code",
   "execution_count": 1000,
   "metadata": {},
   "outputs": [],
   "source": [
    "users['is_premium'] = users['is_premium'].fillna(0).astype(int)"
   ]
  },
  {
   "cell_type": "markdown",
   "metadata": {},
   "source": [
    "Создадим в датайреме users отдельную колонку со статусом подписки для каждого юзера"
   ]
  },
  {
   "cell_type": "code",
   "execution_count": 1001,
   "metadata": {},
   "outputs": [
    {
     "data": {
      "text/html": [
       "<div>\n",
       "<style scoped>\n",
       "    .dataframe tbody tr th:only-of-type {\n",
       "        vertical-align: middle;\n",
       "    }\n",
       "\n",
       "    .dataframe tbody tr th {\n",
       "        vertical-align: top;\n",
       "    }\n",
       "\n",
       "    .dataframe thead th {\n",
       "        text-align: right;\n",
       "    }\n",
       "</style>\n",
       "<table border=\"1\" class=\"dataframe\">\n",
       "  <thead>\n",
       "    <tr style=\"text-align: right;\">\n",
       "      <th></th>\n",
       "      <th>index</th>\n",
       "      <th>uid</th>\n",
       "      <th>age</th>\n",
       "      <th>attraction_coeff</th>\n",
       "      <th>coins</th>\n",
       "      <th>country</th>\n",
       "      <th>visit_days</th>\n",
       "      <th>gender</th>\n",
       "      <th>age_filter_start</th>\n",
       "      <th>age_filter_end</th>\n",
       "      <th>views_count</th>\n",
       "      <th>was_premium</th>\n",
       "      <th>is_premium</th>\n",
       "      <th>total_revenue</th>\n",
       "      <th>group</th>\n",
       "      <th>premium</th>\n",
       "    </tr>\n",
       "  </thead>\n",
       "  <tbody>\n",
       "    <tr>\n",
       "      <th>0</th>\n",
       "      <td>0</td>\n",
       "      <td>892309896</td>\n",
       "      <td>27</td>\n",
       "      <td>685</td>\n",
       "      <td>NaN</td>\n",
       "      <td>United States of America</td>\n",
       "      <td>1,2,3,4,5,6,7,8,9,10,11,12,16,17</td>\n",
       "      <td>1</td>\n",
       "      <td>24</td>\n",
       "      <td>30</td>\n",
       "      <td>89</td>\n",
       "      <td>0</td>\n",
       "      <td>0</td>\n",
       "      <td>0</td>\n",
       "      <td>test</td>\n",
       "      <td>no_premium</td>\n",
       "    </tr>\n",
       "    <tr>\n",
       "      <th>1</th>\n",
       "      <td>1</td>\n",
       "      <td>892044516</td>\n",
       "      <td>27</td>\n",
       "      <td>0</td>\n",
       "      <td>NaN</td>\n",
       "      <td>Germany</td>\n",
       "      <td>NaN</td>\n",
       "      <td>1</td>\n",
       "      <td>24</td>\n",
       "      <td>30</td>\n",
       "      <td>0</td>\n",
       "      <td>0</td>\n",
       "      <td>0</td>\n",
       "      <td>0</td>\n",
       "      <td>test</td>\n",
       "      <td>no_premium</td>\n",
       "    </tr>\n",
       "    <tr>\n",
       "      <th>2</th>\n",
       "      <td>2</td>\n",
       "      <td>892185708</td>\n",
       "      <td>45</td>\n",
       "      <td>44</td>\n",
       "      <td>NaN</td>\n",
       "      <td>Israel</td>\n",
       "      <td>1,3,4,6,7,8,10,11,12,13,14,15,16,17,18,19,20,2...</td>\n",
       "      <td>1</td>\n",
       "      <td>42</td>\n",
       "      <td>48</td>\n",
       "      <td>68</td>\n",
       "      <td>0</td>\n",
       "      <td>0</td>\n",
       "      <td>0</td>\n",
       "      <td>test</td>\n",
       "      <td>no_premium</td>\n",
       "    </tr>\n",
       "  </tbody>\n",
       "</table>\n",
       "</div>"
      ],
      "text/plain": [
       "   index        uid  age  attraction_coeff  coins                   country  \\\n",
       "0      0  892309896   27               685    NaN  United States of America   \n",
       "1      1  892044516   27                 0    NaN                   Germany   \n",
       "2      2  892185708   45                44    NaN                    Israel   \n",
       "\n",
       "                                          visit_days  gender  \\\n",
       "0                   1,2,3,4,5,6,7,8,9,10,11,12,16,17       1   \n",
       "1                                                NaN       1   \n",
       "2  1,3,4,6,7,8,10,11,12,13,14,15,16,17,18,19,20,2...       1   \n",
       "\n",
       "   age_filter_start  age_filter_end  views_count  was_premium  is_premium  \\\n",
       "0                24              30           89            0           0   \n",
       "1                24              30            0            0           0   \n",
       "2                42              48           68            0           0   \n",
       "\n",
       "   total_revenue group     premium  \n",
       "0              0  test  no_premium  \n",
       "1              0  test  no_premium  \n",
       "2              0  test  no_premium  "
      ]
     },
     "execution_count": 1001,
     "metadata": {},
     "output_type": "execute_result"
    }
   ],
   "source": [
    "def p(users):\n",
    "    if users.was_premium == 0.0 and users.is_premium == 0.0:\n",
    "        x = 'no_premium'\n",
    "    elif users.was_premium == 1.0 and users.is_premium == 0.0:\n",
    "        x = 'ended_premium'\n",
    "    else:\n",
    "        x = 'current_premium'\n",
    "    return x\n",
    "\n",
    "users['premium'] = users.apply(p, axis = 1)\n",
    "users.head(3)"
   ]
  },
  {
   "cell_type": "markdown",
   "metadata": {},
   "source": [
    "Сгруппируем по этой колонке платящих пользователей"
   ]
  },
  {
   "cell_type": "code",
   "execution_count": 1002,
   "metadata": {},
   "outputs": [
    {
     "data": {
      "text/html": [
       "<div>\n",
       "<style scoped>\n",
       "    .dataframe tbody tr th:only-of-type {\n",
       "        vertical-align: middle;\n",
       "    }\n",
       "\n",
       "    .dataframe tbody tr th {\n",
       "        vertical-align: top;\n",
       "    }\n",
       "\n",
       "    .dataframe thead th {\n",
       "        text-align: right;\n",
       "    }\n",
       "</style>\n",
       "<table border=\"1\" class=\"dataframe\">\n",
       "  <thead>\n",
       "    <tr style=\"text-align: right;\">\n",
       "      <th></th>\n",
       "      <th>premium</th>\n",
       "      <th>uid</th>\n",
       "    </tr>\n",
       "  </thead>\n",
       "  <tbody>\n",
       "    <tr>\n",
       "      <th>0</th>\n",
       "      <td>current_premium</td>\n",
       "      <td>427</td>\n",
       "    </tr>\n",
       "    <tr>\n",
       "      <th>1</th>\n",
       "      <td>ended_premium</td>\n",
       "      <td>65</td>\n",
       "    </tr>\n",
       "    <tr>\n",
       "      <th>2</th>\n",
       "      <td>no_premium</td>\n",
       "      <td>31</td>\n",
       "    </tr>\n",
       "  </tbody>\n",
       "</table>\n",
       "</div>"
      ],
      "text/plain": [
       "           premium  uid\n",
       "0  current_premium  427\n",
       "1    ended_premium   65\n",
       "2       no_premium   31"
      ]
     },
     "execution_count": 1002,
     "metadata": {},
     "output_type": "execute_result"
    }
   ],
   "source": [
    "users.query('total_revenue > 0').groupby('premium', as_index= False).agg({'uid':'nunique'})"
   ]
  },
  {
   "cell_type": "markdown",
   "metadata": {},
   "source": [
    "Также сделаем группировку датафрейма transactions по product_type, чтобы сопоставить количество пользователей с разными статусами подписок"
   ]
  },
  {
   "cell_type": "code",
   "execution_count": 1003,
   "metadata": {},
   "outputs": [
    {
     "data": {
      "text/plain": [
       "uid    450\n",
       "dtype: int64"
      ]
     },
     "execution_count": 1003,
     "metadata": {},
     "output_type": "execute_result"
    }
   ],
   "source": [
    "transactions.agg({'uid':'nunique'})"
   ]
  },
  {
   "cell_type": "code",
   "execution_count": 1004,
   "metadata": {},
   "outputs": [
    {
     "data": {
      "text/html": [
       "<div>\n",
       "<style scoped>\n",
       "    .dataframe tbody tr th:only-of-type {\n",
       "        vertical-align: middle;\n",
       "    }\n",
       "\n",
       "    .dataframe tbody tr th {\n",
       "        vertical-align: top;\n",
       "    }\n",
       "\n",
       "    .dataframe thead th {\n",
       "        text-align: right;\n",
       "    }\n",
       "</style>\n",
       "<table border=\"1\" class=\"dataframe\">\n",
       "  <thead>\n",
       "    <tr style=\"text-align: right;\">\n",
       "      <th></th>\n",
       "      <th>product_type</th>\n",
       "      <th>uid</th>\n",
       "    </tr>\n",
       "  </thead>\n",
       "  <tbody>\n",
       "    <tr>\n",
       "      <th>0</th>\n",
       "      <td>other_type</td>\n",
       "      <td>4</td>\n",
       "    </tr>\n",
       "    <tr>\n",
       "      <th>1</th>\n",
       "      <td>premium_no_trial</td>\n",
       "      <td>267</td>\n",
       "    </tr>\n",
       "    <tr>\n",
       "      <th>2</th>\n",
       "      <td>trial_premium</td>\n",
       "      <td>179</td>\n",
       "    </tr>\n",
       "  </tbody>\n",
       "</table>\n",
       "</div>"
      ],
      "text/plain": [
       "       product_type  uid\n",
       "0        other_type    4\n",
       "1  premium_no_trial  267\n",
       "2     trial_premium  179"
      ]
     },
     "execution_count": 1004,
     "metadata": {},
     "output_type": "execute_result"
    }
   ],
   "source": [
    "transactions.query('revenue > 0.0').drop_duplicates(subset=['uid']).groupby('product_type', as_index= False).agg({'uid':'nunique'})"
   ]
  },
  {
   "cell_type": "markdown",
   "metadata": {},
   "source": [
    "Мы видим, что платящие пользователи из users с премиальной подпиской (текущей и зарешенной)  = 492, а пользователи из transactions с премиальными подписками (пробными и нет) = 446. \n",
    "\n",
    "46 пользователей не сходится, найдем их в таблице users."
   ]
  },
  {
   "cell_type": "markdown",
   "metadata": {},
   "source": [
    "Создадим таблицы, отфильрованные по нашим условиям (платящие пользователи, премиальная подписка)"
   ]
  },
  {
   "cell_type": "code",
   "execution_count": 1005,
   "metadata": {},
   "outputs": [],
   "source": [
    "b = transactions.query('revenue > 0.0').query('product_type == \"premium_no_trial\" or product_type == \"trial_premium\"')\n",
    "a = users.query('total_revenue > 0').query('premium == \"current_premium\" or premium == \"ended_premium\"').drop_duplicates(subset=['uid'])"
   ]
  },
  {
   "cell_type": "code",
   "execution_count": 1006,
   "metadata": {},
   "outputs": [
    {
     "data": {
      "text/plain": [
       "46"
      ]
     },
     "execution_count": 1006,
     "metadata": {},
     "output_type": "execute_result"
    }
   ],
   "source": [
    "out = a[~a['uid'].isin(b['uid'])]\n",
    "out.shape[0]"
   ]
  },
  {
   "cell_type": "code",
   "execution_count": 1007,
   "metadata": {},
   "outputs": [
    {
     "data": {
      "text/html": [
       "<div>\n",
       "<style scoped>\n",
       "    .dataframe tbody tr th:only-of-type {\n",
       "        vertical-align: middle;\n",
       "    }\n",
       "\n",
       "    .dataframe tbody tr th {\n",
       "        vertical-align: top;\n",
       "    }\n",
       "\n",
       "    .dataframe thead th {\n",
       "        text-align: right;\n",
       "    }\n",
       "</style>\n",
       "<table border=\"1\" class=\"dataframe\">\n",
       "  <thead>\n",
       "    <tr style=\"text-align: right;\">\n",
       "      <th></th>\n",
       "      <th>index</th>\n",
       "      <th>uid</th>\n",
       "      <th>country</th>\n",
       "      <th>joined_at</th>\n",
       "      <th>paid_at</th>\n",
       "      <th>revenue</th>\n",
       "      <th>payment_id</th>\n",
       "      <th>from_page</th>\n",
       "      <th>product_type</th>\n",
       "      <th>group</th>\n",
       "    </tr>\n",
       "  </thead>\n",
       "  <tbody>\n",
       "    <tr>\n",
       "      <th>14</th>\n",
       "      <td>14</td>\n",
       "      <td>892150854</td>\n",
       "      <td>Argentina</td>\n",
       "      <td>2017-10-20 00:25:00</td>\n",
       "      <td>2017-10-23 01:31:00</td>\n",
       "      <td>30264.0</td>\n",
       "      <td>68.0</td>\n",
       "      <td>super_popup</td>\n",
       "      <td>other_type</td>\n",
       "      <td>test</td>\n",
       "    </tr>\n",
       "    <tr>\n",
       "      <th>151</th>\n",
       "      <td>154</td>\n",
       "      <td>892275462</td>\n",
       "      <td>France</td>\n",
       "      <td>2017-10-17 05:56:00</td>\n",
       "      <td>2017-10-20 17:00:00</td>\n",
       "      <td>14885.0</td>\n",
       "      <td>68.0</td>\n",
       "      <td>super_popup</td>\n",
       "      <td>other_type</td>\n",
       "      <td>test</td>\n",
       "    </tr>\n",
       "    <tr>\n",
       "      <th>569</th>\n",
       "      <td>322</td>\n",
       "      <td>891367521</td>\n",
       "      <td>Italy</td>\n",
       "      <td>2017-05-11 02:37:00</td>\n",
       "      <td>2017-06-11 17:41:00</td>\n",
       "      <td>7306.0</td>\n",
       "      <td>68.0</td>\n",
       "      <td>super_popup</td>\n",
       "      <td>other_type</td>\n",
       "      <td>control_1</td>\n",
       "    </tr>\n",
       "  </tbody>\n",
       "</table>\n",
       "</div>"
      ],
      "text/plain": [
       "     index        uid    country           joined_at             paid_at  \\\n",
       "14      14  892150854  Argentina 2017-10-20 00:25:00 2017-10-23 01:31:00   \n",
       "151    154  892275462     France 2017-10-17 05:56:00 2017-10-20 17:00:00   \n",
       "569    322  891367521      Italy 2017-05-11 02:37:00 2017-06-11 17:41:00   \n",
       "\n",
       "     revenue  payment_id    from_page product_type      group  \n",
       "14   30264.0        68.0  super_popup   other_type       test  \n",
       "151  14885.0        68.0  super_popup   other_type       test  \n",
       "569   7306.0        68.0  super_popup   other_type  control_1  "
      ]
     },
     "execution_count": 1007,
     "metadata": {},
     "output_type": "execute_result"
    }
   ],
   "source": [
    "transactions.query('uid in @out.uid')"
   ]
  },
  {
   "cell_type": "markdown",
   "metadata": {},
   "source": [
    "Мы нашли список из 46 пользователей, с премиум подпиской (оконченной и текущей), которые совершали покупки, вероятно, до начала периода исследования, так как в таблице transactions они отсутствуют либо значатся со статусом подписки \"other_type\", \n",
    "\n",
    "возможно, это - ошибка в данных и операции этих пользователей не были учтены в датафрейме"
   ]
  },
  {
   "cell_type": "markdown",
   "metadata": {},
   "source": [
    "Предлагаю данные по ним также исключить из таблицы, так как они не подходят нам для проведения экпериментов"
   ]
  },
  {
   "cell_type": "code",
   "execution_count": 1008,
   "metadata": {},
   "outputs": [
    {
     "data": {
      "text/plain": [
       "12841"
      ]
     },
     "execution_count": 1008,
     "metadata": {},
     "output_type": "execute_result"
    }
   ],
   "source": [
    "users.shape[0] - out.shape[0]"
   ]
  },
  {
   "cell_type": "code",
   "execution_count": 1009,
   "metadata": {},
   "outputs": [],
   "source": [
    "users = users[~users['uid'].isin(out['uid'])]"
   ]
  },
  {
   "cell_type": "code",
   "execution_count": 1010,
   "metadata": {},
   "outputs": [
    {
     "data": {
      "text/plain": [
       "12841"
      ]
     },
     "execution_count": 1010,
     "metadata": {},
     "output_type": "execute_result"
    }
   ],
   "source": [
    "users.shape[0]"
   ]
  },
  {
   "cell_type": "markdown",
   "metadata": {},
   "source": [
    "Давайте посмотрим разницу между revenue и total_revenue из таблиц transactions и users соотвественно. Тотал total_revenue - это общая сумма выручки по каждому платящему пользователю (сумма выручки из всех транзакций по пользователю из таблицы transactions)."
   ]
  },
  {
   "cell_type": "code",
   "execution_count": 1011,
   "metadata": {},
   "outputs": [
    {
     "data": {
      "text/html": [
       "<div>\n",
       "<style scoped>\n",
       "    .dataframe tbody tr th:only-of-type {\n",
       "        vertical-align: middle;\n",
       "    }\n",
       "\n",
       "    .dataframe tbody tr th {\n",
       "        vertical-align: top;\n",
       "    }\n",
       "\n",
       "    .dataframe thead th {\n",
       "        text-align: right;\n",
       "    }\n",
       "</style>\n",
       "<table border=\"1\" class=\"dataframe\">\n",
       "  <thead>\n",
       "    <tr style=\"text-align: right;\">\n",
       "      <th></th>\n",
       "      <th>product_type</th>\n",
       "      <th>revenue</th>\n",
       "    </tr>\n",
       "  </thead>\n",
       "  <tbody>\n",
       "    <tr>\n",
       "      <th>0</th>\n",
       "      <td>other_type</td>\n",
       "      <td>82719.0</td>\n",
       "    </tr>\n",
       "    <tr>\n",
       "      <th>1</th>\n",
       "      <td>premium_no_trial</td>\n",
       "      <td>2304068.0</td>\n",
       "    </tr>\n",
       "    <tr>\n",
       "      <th>2</th>\n",
       "      <td>trial_premium</td>\n",
       "      <td>2204137.0</td>\n",
       "    </tr>\n",
       "  </tbody>\n",
       "</table>\n",
       "</div>"
      ],
      "text/plain": [
       "       product_type    revenue\n",
       "0        other_type    82719.0\n",
       "1  premium_no_trial  2304068.0\n",
       "2     trial_premium  2204137.0"
      ]
     },
     "execution_count": 1011,
     "metadata": {},
     "output_type": "execute_result"
    }
   ],
   "source": [
    "transactions.groupby('product_type', as_index= False).agg({'revenue':'sum'})"
   ]
  },
  {
   "cell_type": "code",
   "execution_count": 1012,
   "metadata": {},
   "outputs": [
    {
     "data": {
      "text/html": [
       "<div>\n",
       "<style scoped>\n",
       "    .dataframe tbody tr th:only-of-type {\n",
       "        vertical-align: middle;\n",
       "    }\n",
       "\n",
       "    .dataframe tbody tr th {\n",
       "        vertical-align: top;\n",
       "    }\n",
       "\n",
       "    .dataframe thead th {\n",
       "        text-align: right;\n",
       "    }\n",
       "</style>\n",
       "<table border=\"1\" class=\"dataframe\">\n",
       "  <thead>\n",
       "    <tr style=\"text-align: right;\">\n",
       "      <th></th>\n",
       "      <th>premium</th>\n",
       "      <th>total_revenue</th>\n",
       "    </tr>\n",
       "  </thead>\n",
       "  <tbody>\n",
       "    <tr>\n",
       "      <th>0</th>\n",
       "      <td>current_premium</td>\n",
       "      <td>6037616</td>\n",
       "    </tr>\n",
       "    <tr>\n",
       "      <th>1</th>\n",
       "      <td>ended_premium</td>\n",
       "      <td>188123</td>\n",
       "    </tr>\n",
       "    <tr>\n",
       "      <th>2</th>\n",
       "      <td>no_premium</td>\n",
       "      <td>179933</td>\n",
       "    </tr>\n",
       "  </tbody>\n",
       "</table>\n",
       "</div>"
      ],
      "text/plain": [
       "           premium  total_revenue\n",
       "0  current_premium        6037616\n",
       "1    ended_premium         188123\n",
       "2       no_premium         179933"
      ]
     },
     "execution_count": 1012,
     "metadata": {},
     "output_type": "execute_result"
    }
   ],
   "source": [
    "users.groupby('premium', as_index= False).agg({'total_revenue':'sum'})"
   ]
  },
  {
   "cell_type": "code",
   "execution_count": 1013,
   "metadata": {},
   "outputs": [
    {
     "data": {
      "text/plain": [
       "1814748.0"
      ]
     },
     "execution_count": 1013,
     "metadata": {},
     "output_type": "execute_result"
    }
   ],
   "source": [
    "users.total_revenue.sum()-transactions.revenue.sum()"
   ]
  },
  {
   "cell_type": "markdown",
   "metadata": {},
   "source": [
    "Разница между суммами total_revenue (выручка по пользователю) и revenue (выручка по каждой транзакции) составила 1 814 748,00 эта разница объясняется тем, что общая выручка по каждому пользователю собрана за более широкий период, а не за исследуемый, иначе они бы совпадали. Поэтому для дальнейших изучений изменения выручки целесообразно использовать только revenue из таблицы transactions, так как нас интересуют изменения исследуемого периода."
   ]
  },
  {
   "cell_type": "markdown",
   "metadata": {},
   "source": [
    "## Проанализируем наши данные, посмотрим, насколько хорошо сработала система сплитования."
   ]
  },
  {
   "cell_type": "markdown",
   "metadata": {},
   "source": [
    "Проверим статистику по возрасту в группах"
   ]
  },
  {
   "cell_type": "code",
   "execution_count": 1014,
   "metadata": {},
   "outputs": [
    {
     "data": {
      "image/png": "[encoded data removed]",
      "text/plain": [
       "<Figure size 864x288 with 3 Axes>"
      ]
     },
     "metadata": {},
     "output_type": "display_data"
    }
   ],
   "source": [
    "fig, axes = plt.subplots(nrows=1, ncols=3, figsize=(12, 4))\n",
    "\n",
    "sns.histplot(x=users_test.age, ax = axes[0])\n",
    "axes[0].set(title='users_test')\n",
    "\n",
    "sns.histplot(x=users_control_1.age, ax = axes[1])\n",
    "axes[1].set(title='users_control_1', ylabel='')\n",
    "\n",
    "sns.histplot(x=users_control_2.age, ax = axes[2])\n",
    "axes[2].set(title='users_control_2', ylabel='')\n",
    "\n",
    "sns.despine()\n",
    "plt.tight_layout()"
   ]
  },
  {
   "cell_type": "markdown",
   "metadata": {},
   "source": [
    "Найдем средний возраст в каждой группе"
   ]
  },
  {
   "cell_type": "code",
   "execution_count": 1015,
   "metadata": {},
   "outputs": [
    {
     "data": {
      "text/plain": [
       "31.889275766016713"
      ]
     },
     "execution_count": 1015,
     "metadata": {},
     "output_type": "execute_result"
    }
   ],
   "source": [
    "users_test.age.mean()"
   ]
  },
  {
   "cell_type": "code",
   "execution_count": 1016,
   "metadata": {},
   "outputs": [
    {
     "data": {
      "text/plain": [
       "32.08775981524249"
      ]
     },
     "execution_count": 1016,
     "metadata": {},
     "output_type": "execute_result"
    }
   ],
   "source": [
    "users_control_1.age.mean()"
   ]
  },
  {
   "cell_type": "code",
   "execution_count": 1017,
   "metadata": {},
   "outputs": [
    {
     "data": {
      "text/plain": [
       "32.03483172511179"
      ]
     },
     "execution_count": 1017,
     "metadata": {},
     "output_type": "execute_result"
    }
   ],
   "source": [
    "users_control_2.age.mean()"
   ]
  },
  {
   "cell_type": "markdown",
   "metadata": {},
   "source": [
    "Проверим общий средний возраст"
   ]
  },
  {
   "cell_type": "code",
   "execution_count": 1018,
   "metadata": {},
   "outputs": [
    {
     "data": {
      "text/plain": [
       "31.999688497780546"
      ]
     },
     "execution_count": 1018,
     "metadata": {},
     "output_type": "execute_result"
    }
   ],
   "source": [
    "users.age.mean()"
   ]
  },
  {
   "cell_type": "code",
   "execution_count": 1019,
   "metadata": {},
   "outputs": [
    {
     "data": {
      "text/html": [
       "<div>\n",
       "<style scoped>\n",
       "    .dataframe tbody tr th:only-of-type {\n",
       "        vertical-align: middle;\n",
       "    }\n",
       "\n",
       "    .dataframe tbody tr th {\n",
       "        vertical-align: top;\n",
       "    }\n",
       "\n",
       "    .dataframe thead th {\n",
       "        text-align: right;\n",
       "    }\n",
       "</style>\n",
       "<table border=\"1\" class=\"dataframe\">\n",
       "  <thead>\n",
       "    <tr style=\"text-align: right;\">\n",
       "      <th></th>\n",
       "      <th>W</th>\n",
       "      <th>pval</th>\n",
       "      <th>normal</th>\n",
       "    </tr>\n",
       "  </thead>\n",
       "  <tbody>\n",
       "    <tr>\n",
       "      <th>test</th>\n",
       "      <td>980.410906</td>\n",
       "      <td>1.277841e-213</td>\n",
       "      <td>False</td>\n",
       "    </tr>\n",
       "    <tr>\n",
       "      <th>control_1</th>\n",
       "      <td>912.976109</td>\n",
       "      <td>5.620265e-199</td>\n",
       "      <td>False</td>\n",
       "    </tr>\n",
       "    <tr>\n",
       "      <th>control_2</th>\n",
       "      <td>584.301416</td>\n",
       "      <td>1.319956e-127</td>\n",
       "      <td>False</td>\n",
       "    </tr>\n",
       "  </tbody>\n",
       "</table>\n",
       "</div>"
      ],
      "text/plain": [
       "                    W           pval  normal\n",
       "test       980.410906  1.277841e-213   False\n",
       "control_1  912.976109  5.620265e-199   False\n",
       "control_2  584.301416  1.319956e-127   False"
      ]
     },
     "execution_count": 1019,
     "metadata": {},
     "output_type": "execute_result"
    }
   ],
   "source": [
    "pg.normality(data=users, dv=\"age\", group=\"group\", method=\"normaltest\")"
   ]
  },
  {
   "cell_type": "markdown",
   "metadata": {},
   "source": [
    "Проверим распределение по гендеру"
   ]
  },
  {
   "cell_type": "code",
   "execution_count": 1020,
   "metadata": {},
   "outputs": [
    {
     "data": {
      "image/png": "[encoded data removed]",
      "text/plain": [
       "<Figure size 864x288 with 3 Axes>"
      ]
     },
     "metadata": {},
     "output_type": "display_data"
    }
   ],
   "source": [
    "fig, axes = plt.subplots(nrows=1, ncols=3, figsize=(12, 4))\n",
    "\n",
    "sns.histplot(x=users_test.gender, ax = axes[0])\n",
    "axes[0].set(title='users_test')\n",
    "\n",
    "sns.histplot(x=users_control_1.gender, ax = axes[1])\n",
    "axes[1].set(title='users_control_1', ylabel='')\n",
    "\n",
    "sns.histplot(x=users_control_2.gender, ax = axes[2])\n",
    "axes[2].set(title='users_control_2', ylabel='')\n",
    "\n",
    "sns.despine()\n",
    "plt.tight_layout()"
   ]
  },
  {
   "cell_type": "markdown",
   "metadata": {},
   "source": [
    "Найдем соотношение по половому признаку в каждй группе"
   ]
  },
  {
   "cell_type": "markdown",
   "metadata": {},
   "source": [
    "Немного изменим данные в столбце gender, будем считать, что 1 - это обозначение мужчины, а  0 - женщины."
   ]
  },
  {
   "cell_type": "code",
   "execution_count": 1021,
   "metadata": {},
   "outputs": [],
   "source": [
    "users['gender']=users.gender.apply(lambda x:'man' if x ==1 else 'woman')"
   ]
  },
  {
   "cell_type": "code",
   "execution_count": 1022,
   "metadata": {},
   "outputs": [],
   "source": [
    "gender_test = users.query('group == \"test\"').groupby('gender',as_index=False).agg({'uid':'count'})\\\n",
    "    .rename(columns={'uid': 'quantity'})"
   ]
  },
  {
   "cell_type": "code",
   "execution_count": 1023,
   "metadata": {},
   "outputs": [],
   "source": [
    "gender_control_1 = users.query('group == \"control_1\"').groupby('gender',as_index=False).agg({'uid':'count'})\\\n",
    "    .rename(columns={'uid': 'quantity'})"
   ]
  },
  {
   "cell_type": "code",
   "execution_count": 1024,
   "metadata": {},
   "outputs": [],
   "source": [
    "gender_control_2 = users.query('group == \"control_2\"').groupby('gender',as_index=False).agg({'uid':'count'})\\\n",
    "    .rename(columns={'uid': 'quantity'})"
   ]
  },
  {
   "cell_type": "code",
   "execution_count": 1025,
   "metadata": {},
   "outputs": [
    {
     "data": {
      "text/html": [
       "<div>\n",
       "<style scoped>\n",
       "    .dataframe tbody tr th:only-of-type {\n",
       "        vertical-align: middle;\n",
       "    }\n",
       "\n",
       "    .dataframe tbody tr th {\n",
       "        vertical-align: top;\n",
       "    }\n",
       "\n",
       "    .dataframe thead th {\n",
       "        text-align: right;\n",
       "    }\n",
       "</style>\n",
       "<table border=\"1\" class=\"dataframe\">\n",
       "  <thead>\n",
       "    <tr style=\"text-align: right;\">\n",
       "      <th></th>\n",
       "      <th>gender</th>\n",
       "      <th>quantity</th>\n",
       "    </tr>\n",
       "  </thead>\n",
       "  <tbody>\n",
       "    <tr>\n",
       "      <th>0</th>\n",
       "      <td>man</td>\n",
       "      <td>4135</td>\n",
       "    </tr>\n",
       "    <tr>\n",
       "      <th>1</th>\n",
       "      <td>woman</td>\n",
       "      <td>182</td>\n",
       "    </tr>\n",
       "  </tbody>\n",
       "</table>\n",
       "</div>"
      ],
      "text/plain": [
       "  gender  quantity\n",
       "0    man      4135\n",
       "1  woman       182"
      ]
     },
     "execution_count": 1025,
     "metadata": {},
     "output_type": "execute_result"
    }
   ],
   "source": [
    "gender_control_1"
   ]
  },
  {
   "cell_type": "code",
   "execution_count": 1026,
   "metadata": {},
   "outputs": [
    {
     "data": {
      "image/png": "[encoded data removed]",
      "text/plain": [
       "<Figure size 216x216 with 1 Axes>"
      ]
     },
     "metadata": {},
     "output_type": "display_data"
    },
    {
     "data": {
      "image/png": "[encoded data removed]",
      "text/plain": [
       "<Figure size 216x216 with 1 Axes>"
      ]
     },
     "metadata": {},
     "output_type": "display_data"
    },
    {
     "data": {
      "image/png": "[encoded data removed]",
      "text/plain": [
       "<Figure size 216x216 with 1 Axes>"
      ]
     },
     "metadata": {},
     "output_type": "display_data"
    }
   ],
   "source": [
    "sns.set(rc={'figure.figsize': (3, 3)})\n",
    "plt.pie(gender_test.quantity, labels=gender_test.gender, autopct='%.0f%%')\n",
    "plt.show()\n",
    "\n",
    "sns.set(rc={'figure.figsize': (3, 3)})\n",
    "plt.pie(gender_control_1.quantity, labels=gender_control_1.gender, autopct='%.0f%%')\n",
    "plt.show()\n",
    "\n",
    "sns.set(rc={'figure.figsize': (3, 3)})\n",
    "plt.pie(gender_control_2.quantity, labels=gender_control_2.gender, autopct='%.0f%%')\n",
    "plt.show()"
   ]
  },
  {
   "cell_type": "markdown",
   "metadata": {},
   "source": [
    "Видим, что во всех трех группах преобладающее количество пользователей мкжчины 95 - 96 %"
   ]
  },
  {
   "cell_type": "markdown",
   "metadata": {},
   "source": [
    "Посмотрим, из каких стран отобраны пользователи"
   ]
  },
  {
   "cell_type": "code",
   "execution_count": 1027,
   "metadata": {},
   "outputs": [
    {
     "data": {
      "text/html": [
       "<div>\n",
       "<style scoped>\n",
       "    .dataframe tbody tr th:only-of-type {\n",
       "        vertical-align: middle;\n",
       "    }\n",
       "\n",
       "    .dataframe tbody tr th {\n",
       "        vertical-align: top;\n",
       "    }\n",
       "\n",
       "    .dataframe thead th {\n",
       "        text-align: right;\n",
       "    }\n",
       "</style>\n",
       "<table border=\"1\" class=\"dataframe\">\n",
       "  <thead>\n",
       "    <tr style=\"text-align: right;\">\n",
       "      <th></th>\n",
       "      <th>country</th>\n",
       "      <th>gender</th>\n",
       "    </tr>\n",
       "  </thead>\n",
       "  <tbody>\n",
       "    <tr>\n",
       "      <th>48</th>\n",
       "      <td>United States of America</td>\n",
       "      <td>1450</td>\n",
       "    </tr>\n",
       "    <tr>\n",
       "      <th>1</th>\n",
       "      <td>Argentina</td>\n",
       "      <td>396</td>\n",
       "    </tr>\n",
       "    <tr>\n",
       "      <th>13</th>\n",
       "      <td>France</td>\n",
       "      <td>359</td>\n",
       "    </tr>\n",
       "    <tr>\n",
       "      <th>24</th>\n",
       "      <td>Italy</td>\n",
       "      <td>323</td>\n",
       "    </tr>\n",
       "    <tr>\n",
       "      <th>40</th>\n",
       "      <td>Spain</td>\n",
       "      <td>301</td>\n",
       "    </tr>\n",
       "  </tbody>\n",
       "</table>\n",
       "</div>"
      ],
      "text/plain": [
       "                     country  gender\n",
       "48  United States of America    1450\n",
       "1                  Argentina     396\n",
       "13                    France     359\n",
       "24                     Italy     323\n",
       "40                     Spain     301"
      ]
     },
     "execution_count": 1027,
     "metadata": {},
     "output_type": "execute_result"
    }
   ],
   "source": [
    "users_test.groupby('country',as_index = False).agg({'gender':'count'}).sort_values('gender',ascending=False).head(5)"
   ]
  },
  {
   "cell_type": "code",
   "execution_count": 1028,
   "metadata": {},
   "outputs": [
    {
     "data": {
      "text/html": [
       "<div>\n",
       "<style scoped>\n",
       "    .dataframe tbody tr th:only-of-type {\n",
       "        vertical-align: middle;\n",
       "    }\n",
       "\n",
       "    .dataframe tbody tr th {\n",
       "        vertical-align: top;\n",
       "    }\n",
       "\n",
       "    .dataframe thead th {\n",
       "        text-align: right;\n",
       "    }\n",
       "</style>\n",
       "<table border=\"1\" class=\"dataframe\">\n",
       "  <thead>\n",
       "    <tr style=\"text-align: right;\">\n",
       "      <th></th>\n",
       "      <th>country</th>\n",
       "      <th>gender</th>\n",
       "    </tr>\n",
       "  </thead>\n",
       "  <tbody>\n",
       "    <tr>\n",
       "      <th>30</th>\n",
       "      <td>United States of America</td>\n",
       "      <td>1471</td>\n",
       "    </tr>\n",
       "    <tr>\n",
       "      <th>1</th>\n",
       "      <td>Argentina</td>\n",
       "      <td>389</td>\n",
       "    </tr>\n",
       "    <tr>\n",
       "      <th>10</th>\n",
       "      <td>France</td>\n",
       "      <td>370</td>\n",
       "    </tr>\n",
       "    <tr>\n",
       "      <th>23</th>\n",
       "      <td>Spain</td>\n",
       "      <td>342</td>\n",
       "    </tr>\n",
       "    <tr>\n",
       "      <th>14</th>\n",
       "      <td>Italy</td>\n",
       "      <td>338</td>\n",
       "    </tr>\n",
       "  </tbody>\n",
       "</table>\n",
       "</div>"
      ],
      "text/plain": [
       "                     country  gender\n",
       "30  United States of America    1471\n",
       "1                  Argentina     389\n",
       "10                    France     370\n",
       "23                     Spain     342\n",
       "14                     Italy     338"
      ]
     },
     "execution_count": 1028,
     "metadata": {},
     "output_type": "execute_result"
    }
   ],
   "source": [
    "users_control_1.groupby('country',as_index = False).agg({'gender':'count'}).sort_values('gender',ascending=False).head(5)"
   ]
  },
  {
   "cell_type": "code",
   "execution_count": 1029,
   "metadata": {},
   "outputs": [
    {
     "data": {
      "text/html": [
       "<div>\n",
       "<style scoped>\n",
       "    .dataframe tbody tr th:only-of-type {\n",
       "        vertical-align: middle;\n",
       "    }\n",
       "\n",
       "    .dataframe tbody tr th {\n",
       "        vertical-align: top;\n",
       "    }\n",
       "\n",
       "    .dataframe thead th {\n",
       "        text-align: right;\n",
       "    }\n",
       "</style>\n",
       "<table border=\"1\" class=\"dataframe\">\n",
       "  <thead>\n",
       "    <tr style=\"text-align: right;\">\n",
       "      <th></th>\n",
       "      <th>country</th>\n",
       "      <th>gender</th>\n",
       "    </tr>\n",
       "  </thead>\n",
       "  <tbody>\n",
       "    <tr>\n",
       "      <th>29</th>\n",
       "      <td>United States of America</td>\n",
       "      <td>1486</td>\n",
       "    </tr>\n",
       "    <tr>\n",
       "      <th>0</th>\n",
       "      <td>Argentina</td>\n",
       "      <td>397</td>\n",
       "    </tr>\n",
       "    <tr>\n",
       "      <th>8</th>\n",
       "      <td>France</td>\n",
       "      <td>376</td>\n",
       "    </tr>\n",
       "    <tr>\n",
       "      <th>22</th>\n",
       "      <td>Spain</td>\n",
       "      <td>310</td>\n",
       "    </tr>\n",
       "    <tr>\n",
       "      <th>14</th>\n",
       "      <td>Italy</td>\n",
       "      <td>293</td>\n",
       "    </tr>\n",
       "  </tbody>\n",
       "</table>\n",
       "</div>"
      ],
      "text/plain": [
       "                     country  gender\n",
       "29  United States of America    1486\n",
       "0                  Argentina     397\n",
       "8                     France     376\n",
       "22                     Spain     310\n",
       "14                     Italy     293"
      ]
     },
     "execution_count": 1029,
     "metadata": {},
     "output_type": "execute_result"
    }
   ],
   "source": [
    "users_control_2.groupby('country',as_index = False).agg({'gender':'count'}).sort_values('gender',ascending=False).head(5)"
   ]
  },
  {
   "cell_type": "markdown",
   "metadata": {},
   "source": [
    "Пять крупнейших стран во всех трех группах распределены примерно одинаково"
   ]
  },
  {
   "cell_type": "code",
   "execution_count": 1030,
   "metadata": {},
   "outputs": [
    {
     "data": {
      "image/png": "[encoded data removed]",
      "text/plain": [
       "<Figure size 864x288 with 3 Axes>"
      ]
     },
     "metadata": {},
     "output_type": "display_data"
    }
   ],
   "source": [
    "fig, axes = plt.subplots(nrows=1, ncols=3, figsize=(12, 4))\n",
    "\n",
    "sns.histplot(x=users_test.attraction_coeff, ax = axes[0])\n",
    "axes[0].set(title='users_test')\n",
    "\n",
    "sns.histplot(x=users_control_1.attraction_coeff, ax = axes[1])\n",
    "axes[1].set(title='users_control_1', ylabel='')\n",
    "\n",
    "sns.histplot(x=users_control_2.attraction_coeff, ax = axes[2])\n",
    "axes[2].set(title='users_control_2', ylabel='')\n",
    "\n",
    "sns.despine()\n",
    "plt.tight_layout()"
   ]
  },
  {
   "cell_type": "code",
   "execution_count": 1031,
   "metadata": {},
   "outputs": [
    {
     "data": {
      "text/plain": [
       "311.74387990762125"
      ]
     },
     "execution_count": 1031,
     "metadata": {},
     "output_type": "execute_result"
    }
   ],
   "source": [
    "users_control_1.attraction_coeff.mean()"
   ]
  },
  {
   "cell_type": "code",
   "execution_count": 1032,
   "metadata": {},
   "outputs": [
    {
     "data": {
      "text/plain": [
       "317.7615909625794"
      ]
     },
     "execution_count": 1032,
     "metadata": {},
     "output_type": "execute_result"
    }
   ],
   "source": [
    "users_control_2.attraction_coeff.mean()"
   ]
  },
  {
   "cell_type": "code",
   "execution_count": 1033,
   "metadata": {},
   "outputs": [
    {
     "data": {
      "text/plain": [
       "316.4113277623027"
      ]
     },
     "execution_count": 1033,
     "metadata": {},
     "output_type": "execute_result"
    }
   ],
   "source": [
    "users_test.attraction_coeff.mean()"
   ]
  },
  {
   "cell_type": "markdown",
   "metadata": {},
   "source": [
    "Проверим общее среднее"
   ]
  },
  {
   "cell_type": "code",
   "execution_count": 1034,
   "metadata": {},
   "outputs": [
    {
     "data": {
      "text/plain": [
       "315.14321314539364"
      ]
     },
     "execution_count": 1034,
     "metadata": {},
     "output_type": "execute_result"
    }
   ],
   "source": [
    "users.attraction_coeff.mean()"
   ]
  },
  {
   "cell_type": "code",
   "execution_count": 1035,
   "metadata": {},
   "outputs": [
    {
     "data": {
      "text/html": [
       "<div>\n",
       "<style scoped>\n",
       "    .dataframe tbody tr th:only-of-type {\n",
       "        vertical-align: middle;\n",
       "    }\n",
       "\n",
       "    .dataframe tbody tr th {\n",
       "        vertical-align: top;\n",
       "    }\n",
       "\n",
       "    .dataframe thead th {\n",
       "        text-align: right;\n",
       "    }\n",
       "</style>\n",
       "<table border=\"1\" class=\"dataframe\">\n",
       "  <thead>\n",
       "    <tr style=\"text-align: right;\">\n",
       "      <th></th>\n",
       "      <th>W</th>\n",
       "      <th>pval</th>\n",
       "      <th>normal</th>\n",
       "    </tr>\n",
       "  </thead>\n",
       "  <tbody>\n",
       "    <tr>\n",
       "      <th>test</th>\n",
       "      <td>512.805188</td>\n",
       "      <td>4.423522e-112</td>\n",
       "      <td>False</td>\n",
       "    </tr>\n",
       "    <tr>\n",
       "      <th>control_1</th>\n",
       "      <td>492.639274</td>\n",
       "      <td>1.058622e-107</td>\n",
       "      <td>False</td>\n",
       "    </tr>\n",
       "    <tr>\n",
       "      <th>control_2</th>\n",
       "      <td>547.845990</td>\n",
       "      <td>1.088315e-119</td>\n",
       "      <td>False</td>\n",
       "    </tr>\n",
       "  </tbody>\n",
       "</table>\n",
       "</div>"
      ],
      "text/plain": [
       "                    W           pval  normal\n",
       "test       512.805188  4.423522e-112   False\n",
       "control_1  492.639274  1.058622e-107   False\n",
       "control_2  547.845990  1.088315e-119   False"
      ]
     },
     "execution_count": 1035,
     "metadata": {},
     "output_type": "execute_result"
    }
   ],
   "source": [
    "pg.normality(data=users, dv=\"attraction_coeff\", group=\"group\", method=\"normaltest\")"
   ]
  },
  {
   "cell_type": "markdown",
   "metadata": {},
   "source": [
    "Коэффициенты привлекательносьти тоже мало отличаются в трех группах"
   ]
  },
  {
   "cell_type": "markdown",
   "metadata": {},
   "source": [
    "Делаем вывод,что система сплитования сработала нормально."
   ]
  },
  {
   "cell_type": "markdown",
   "metadata": {},
   "source": [
    "## Проводим АА Тесты"
   ]
  },
  {
   "cell_type": "markdown",
   "metadata": {},
   "source": [
    "Давайте отпределимся с метриками, которые нам необходимо протестировать. \n",
    "Мы изменили только стоимость подписки в тестовой группе, поэтому наша целевая метрика - ARPPU (Average revenue per paying user) - средняя выручка на одного платящего пользователя c премиум-подпиской.\n",
    "\n",
    "Также предлагаю рассмотреть такую метрику CR_pr (конверсия)  в покупку премиум-подписки в первой и второй группах."
   ]
  },
  {
   "cell_type": "markdown",
   "metadata": {},
   "source": [
    "###  1 . ARPPU (Average revenue per paying user)"
   ]
  },
  {
   "cell_type": "markdown",
   "metadata": {},
   "source": [
    "Вспомним, что использовать total_revenue из таблицы users нецелесообразно, так как в нем содежится выручка за более широкий период. В нашем случае будет правильнее сначала произвести в transactions группировку по юзерам, найти общую выручку по каждому и на этих данных посчитать ARPPU_pr."
   ]
  },
  {
   "cell_type": "code",
   "execution_count": 1036,
   "metadata": {},
   "outputs": [],
   "source": [
    "group_control_1_sum =  transactions.query('revenue > 0.0') \\\n",
    "    .query('group == \"control_1\"') \\\n",
    "    .query('product_type == \"premium_no_trial\"') \\\n",
    "    .groupby('uid',as_index = False).agg({'revenue':'sum'}) \\\n",
    "    .rename(columns={'revenue': 'total_revenue'})"
   ]
  },
  {
   "cell_type": "code",
   "execution_count": 1037,
   "metadata": {},
   "outputs": [],
   "source": [
    "group_control_1_mean = transactions.query('revenue > 0.0') \\\n",
    "    .query('group == \"control_1\"') \\\n",
    "    .query('product_type == \"premium_no_trial\"') \\\n",
    "    .groupby('uid',as_index = False).agg({'revenue':'mean'}) \\\n",
    "    .rename(columns={'revenue': 'mean_revenue'})"
   ]
  },
  {
   "cell_type": "code",
   "execution_count": 1038,
   "metadata": {},
   "outputs": [],
   "source": [
    "group_control_2_sum =  transactions.query('revenue > 0.0') \\\n",
    "    .query('group == \"control_2\"') \\\n",
    "    .query('product_type == \"premium_no_trial\"') \\\n",
    "    .groupby('uid',as_index = False).agg({'revenue':'sum'}) \\\n",
    "    .rename(columns={'revenue': 'total_revenue'})"
   ]
  },
  {
   "cell_type": "code",
   "execution_count": 1039,
   "metadata": {},
   "outputs": [],
   "source": [
    "group_control_2_mean = transactions.query('revenue > 0.0') \\\n",
    "    .query('group == \"control_2\"') \\\n",
    "    .query('product_type == \"premium_no_trial\"') \\\n",
    "    .groupby('uid',as_index = False).agg({'revenue':'mean'}) \\\n",
    "    .rename(columns={'revenue': 'mean_revenue'})"
   ]
  },
  {
   "cell_type": "code",
   "execution_count": 1040,
   "metadata": {},
   "outputs": [],
   "source": [
    "group_control_1 = group_control_1_sum.merge(group_control_1_mean, on='uid')"
   ]
  },
  {
   "cell_type": "code",
   "execution_count": 1041,
   "metadata": {},
   "outputs": [],
   "source": [
    "group_control_2 = group_control_2_sum.merge(group_control_2_mean, on='uid')"
   ]
  },
  {
   "cell_type": "code",
   "execution_count": 1042,
   "metadata": {},
   "outputs": [
    {
     "data": {
      "text/html": [
       "<div>\n",
       "<style scoped>\n",
       "    .dataframe tbody tr th:only-of-type {\n",
       "        vertical-align: middle;\n",
       "    }\n",
       "\n",
       "    .dataframe tbody tr th {\n",
       "        vertical-align: top;\n",
       "    }\n",
       "\n",
       "    .dataframe thead th {\n",
       "        text-align: right;\n",
       "    }\n",
       "</style>\n",
       "<table border=\"1\" class=\"dataframe\">\n",
       "  <thead>\n",
       "    <tr style=\"text-align: right;\">\n",
       "      <th></th>\n",
       "      <th>uid</th>\n",
       "      <th>total_revenue</th>\n",
       "      <th>mean_revenue</th>\n",
       "    </tr>\n",
       "  </thead>\n",
       "  <tbody>\n",
       "    <tr>\n",
       "      <th>0</th>\n",
       "      <td>891092322</td>\n",
       "      <td>5278.0</td>\n",
       "      <td>5278.0</td>\n",
       "    </tr>\n",
       "    <tr>\n",
       "      <th>1</th>\n",
       "      <td>891120969</td>\n",
       "      <td>6292.0</td>\n",
       "      <td>6292.0</td>\n",
       "    </tr>\n",
       "    <tr>\n",
       "      <th>2</th>\n",
       "      <td>891130164</td>\n",
       "      <td>4537.0</td>\n",
       "      <td>4537.0</td>\n",
       "    </tr>\n",
       "  </tbody>\n",
       "</table>\n",
       "</div>"
      ],
      "text/plain": [
       "         uid  total_revenue  mean_revenue\n",
       "0  891092322         5278.0        5278.0\n",
       "1  891120969         6292.0        6292.0\n",
       "2  891130164         4537.0        4537.0"
      ]
     },
     "execution_count": 1042,
     "metadata": {},
     "output_type": "execute_result"
    }
   ],
   "source": [
    "group_control_1.head(3)"
   ]
  },
  {
   "cell_type": "markdown",
   "metadata": {},
   "source": [
    "Проверяем ARPPU_pr в друх группах"
   ]
  },
  {
   "cell_type": "code",
   "execution_count": 1043,
   "metadata": {},
   "outputs": [
    {
     "data": {
      "text/plain": [
       "7742.878787878788"
      ]
     },
     "execution_count": 1043,
     "metadata": {},
     "output_type": "execute_result"
    }
   ],
   "source": [
    "group_control_1.total_revenue.mean()"
   ]
  },
  {
   "cell_type": "code",
   "execution_count": 1044,
   "metadata": {},
   "outputs": [
    {
     "data": {
      "text/plain": [
       "7287.465346534654"
      ]
     },
     "execution_count": 1044,
     "metadata": {},
     "output_type": "execute_result"
    }
   ],
   "source": [
    "group_control_2.total_revenue.mean()"
   ]
  },
  {
   "cell_type": "code",
   "execution_count": 1045,
   "metadata": {},
   "outputs": [
    {
     "data": {
      "text/plain": [
       "455.4134413441343"
      ]
     },
     "execution_count": 1045,
     "metadata": {},
     "output_type": "execute_result"
    }
   ],
   "source": [
    "group_control_1.total_revenue.mean() - group_control_2.total_revenue.mean()"
   ]
  },
  {
   "cell_type": "markdown",
   "metadata": {},
   "source": [
    "Мы видим, что в группе control_1 среднее ARPPU_pr на 455,41 больше, чем в группе control_2, но является ли это различие статистически значимым? "
   ]
  },
  {
   "cell_type": "markdown",
   "metadata": {},
   "source": [
    "Посмотрим на распределение этих двух выборок"
   ]
  },
  {
   "cell_type": "code",
   "execution_count": 1046,
   "metadata": {},
   "outputs": [
    {
     "data": {
      "text/plain": [
       "<matplotlib.axes._subplots.AxesSubplot at 0x7f1187be61d0>"
      ]
     },
     "execution_count": 1046,
     "metadata": {},
     "output_type": "execute_result"
    },
    {
     "data": {
      "image/png": "[encoded data removed]",
      "text/plain": [
       "<Figure size 360x360 with 1 Axes>"
      ]
     },
     "metadata": {},
     "output_type": "display_data"
    }
   ],
   "source": [
    "sns.set(rc={'figure.figsize': (5, 5)})\n",
    "sns.histplot((group_control_1.mean_revenue), kde = True)\n",
    "sns.histplot((group_control_2.mean_revenue), kde = True)"
   ]
  },
  {
   "cell_type": "markdown",
   "metadata": {},
   "source": [
    "Проверим, одинаковые ли дисперсии в группах\n",
    "\n",
    "H0 - дисперсии в группах равны\n",
    "\n",
    "H1 - дисперсии не равны"
   ]
  },
  {
   "cell_type": "code",
   "execution_count": 1047,
   "metadata": {},
   "outputs": [
    {
     "data": {
      "text/html": [
       "<div>\n",
       "<style scoped>\n",
       "    .dataframe tbody tr th:only-of-type {\n",
       "        vertical-align: middle;\n",
       "    }\n",
       "\n",
       "    .dataframe tbody tr th {\n",
       "        vertical-align: top;\n",
       "    }\n",
       "\n",
       "    .dataframe thead th {\n",
       "        text-align: right;\n",
       "    }\n",
       "</style>\n",
       "<table border=\"1\" class=\"dataframe\">\n",
       "  <thead>\n",
       "    <tr style=\"text-align: right;\">\n",
       "      <th></th>\n",
       "      <th>W</th>\n",
       "      <th>pval</th>\n",
       "      <th>equal_var</th>\n",
       "    </tr>\n",
       "  </thead>\n",
       "  <tbody>\n",
       "    <tr>\n",
       "      <th>levene</th>\n",
       "      <td>0.260895</td>\n",
       "      <td>0.610075</td>\n",
       "      <td>True</td>\n",
       "    </tr>\n",
       "  </tbody>\n",
       "</table>\n",
       "</div>"
      ],
      "text/plain": [
       "               W      pval  equal_var\n",
       "levene  0.260895  0.610075       True"
      ]
     },
     "execution_count": 1047,
     "metadata": {},
     "output_type": "execute_result"
    }
   ],
   "source": [
    "pg.homoscedasticity(data=transactions.query('group != \"test\" & product_type == \"premium_no_trial\"').groupby(['uid', 'group'], as_index=False).agg({'revenue' : 'sum'}), dv=\"revenue\", group=\"group\")"
   ]
  },
  {
   "cell_type": "markdown",
   "metadata": {},
   "source": [
    "Значение pval больше 0.05, equal_var = True, значит принимаем нулевую гипотезу."
   ]
  },
  {
   "cell_type": "markdown",
   "metadata": {},
   "source": [
    "Дисперсии в группах равны и число наблюдений больше 30.\n",
    "Таким образом мы можем использовать  t-критерия Стьюдента, так как мы работаем с количественными переменными для сравнения средних."
   ]
  },
  {
   "cell_type": "markdown",
   "metadata": {},
   "source": [
    "Строим гипотезы:\n",
    "\n",
    "H0 - изменение цены подписки не влияет на среднюю выручку на одного платящего пользователя с премиум-подпиской.\n",
    "\n",
    "H1 - изменение цены подписки влияет на среднюю выручку на одного платящего пользователя с премиум-подпиской."
   ]
  },
  {
   "cell_type": "code",
   "execution_count": 1048,
   "metadata": {},
   "outputs": [
    {
     "data": {
      "text/plain": [
       "Ttest_indResult(statistic=0.31040696234577486, pvalue=0.7565779954115439)"
      ]
     },
     "execution_count": 1048,
     "metadata": {},
     "output_type": "execute_result"
    }
   ],
   "source": [
    "from scipy import stats\n",
    "stats.ttest_ind((group_control_1.mean_revenue),(group_control_2.mean_revenue))"
   ]
  },
  {
   "cell_type": "markdown",
   "metadata": {},
   "source": [
    "Интерпретируем результат"
   ]
  },
  {
   "cell_type": "code",
   "execution_count": 1049,
   "metadata": {},
   "outputs": [
    {
     "name": "stdout",
     "output_type": "stream",
     "text": [
      "Не отклоняем H0\n"
     ]
    }
   ],
   "source": [
    "pvalue=0.7565779954115439\n",
    "if pvalue >= 0.05:\n",
    "    print ('Не отклоняем H0')\n",
    "else:\n",
    "    print('Отклоняем H0')"
   ]
  },
  {
   "cell_type": "markdown",
   "metadata": {},
   "source": [
    "Не отклоняем Н0 и можем считать, что изменение цены подписки не влияет на среднюю выручку на одного платящего пользователя с премиум-подпиской между двумя контрольными группами, система сплитования сработала хорошо"
   ]
  },
  {
   "cell_type": "markdown",
   "metadata": {},
   "source": [
    "###  2 . CR  в покупку премиум-подписки"
   ]
  },
  {
   "cell_type": "markdown",
   "metadata": {},
   "source": [
    "Объединим всех юзеров с транзакциями"
   ]
  },
  {
   "cell_type": "code",
   "execution_count": 1050,
   "metadata": {},
   "outputs": [],
   "source": [
    "users_merge = users.merge(transactions, on='uid', how='left')"
   ]
  },
  {
   "cell_type": "code",
   "execution_count": 1051,
   "metadata": {},
   "outputs": [],
   "source": [
    "users_merge['premium'] = users_merge.product_type.apply(lambda x:'premium_no_trial' if x == \"premium_no_trial\" else 'others')"
   ]
  },
  {
   "cell_type": "code",
   "execution_count": 1052,
   "metadata": {},
   "outputs": [
    {
     "data": {
      "text/html": [
       "<div>\n",
       "<style scoped>\n",
       "    .dataframe tbody tr th:only-of-type {\n",
       "        vertical-align: middle;\n",
       "    }\n",
       "\n",
       "    .dataframe tbody tr th {\n",
       "        vertical-align: top;\n",
       "    }\n",
       "\n",
       "    .dataframe thead th {\n",
       "        text-align: right;\n",
       "    }\n",
       "</style>\n",
       "<table border=\"1\" class=\"dataframe\">\n",
       "  <thead>\n",
       "    <tr style=\"text-align: right;\">\n",
       "      <th></th>\n",
       "      <th>gender</th>\n",
       "    </tr>\n",
       "    <tr>\n",
       "      <th>premium</th>\n",
       "      <th></th>\n",
       "    </tr>\n",
       "  </thead>\n",
       "  <tbody>\n",
       "    <tr>\n",
       "      <th>others</th>\n",
       "      <td>12576</td>\n",
       "    </tr>\n",
       "    <tr>\n",
       "      <th>premium_no_trial</th>\n",
       "      <td>284</td>\n",
       "    </tr>\n",
       "  </tbody>\n",
       "</table>\n",
       "</div>"
      ],
      "text/plain": [
       "                  gender\n",
       "premium                 \n",
       "others             12576\n",
       "premium_no_trial     284"
      ]
     },
     "execution_count": 1052,
     "metadata": {},
     "output_type": "execute_result"
    }
   ],
   "source": [
    "users_merge.groupby('premium').agg({'gender':'count'})"
   ]
  },
  {
   "cell_type": "markdown",
   "metadata": {},
   "source": [
    "Посмотрим на наши распределения на графике"
   ]
  },
  {
   "cell_type": "code",
   "execution_count": 1053,
   "metadata": {},
   "outputs": [
    {
     "data": {
      "image/png": "[encoded data removed]",
      "text/plain": [
       "<Figure size 360x360 with 1 Axes>"
      ]
     },
     "metadata": {},
     "output_type": "display_data"
    }
   ],
   "source": [
    "sns.countplot(data=users_merge.query(\"group_x != 'test'\").drop_duplicates(subset=['uid']), x = 'group_x', hue = 'premium')\n",
    "\n",
    "sns.despine()\n",
    "plt.title('Премиум-подписки в группах')\n",
    "plt.tight_layout()"
   ]
  },
  {
   "cell_type": "markdown",
   "metadata": {},
   "source": [
    "Визуально понятно, что премиальных подписок в обеих группах примерно одинаковое количество, но \"прочих\" явно меньше в группе control_2"
   ]
  },
  {
   "cell_type": "code",
   "execution_count": 1054,
   "metadata": {},
   "outputs": [
    {
     "data": {
      "text/html": [
       "<div>\n",
       "<style scoped>\n",
       "    .dataframe tbody tr th:only-of-type {\n",
       "        vertical-align: middle;\n",
       "    }\n",
       "\n",
       "    .dataframe tbody tr th {\n",
       "        vertical-align: top;\n",
       "    }\n",
       "\n",
       "    .dataframe thead th {\n",
       "        text-align: right;\n",
       "    }\n",
       "</style>\n",
       "<table border=\"1\" class=\"dataframe\">\n",
       "  <thead>\n",
       "    <tr style=\"text-align: right;\">\n",
       "      <th>group_x</th>\n",
       "      <th>control_1</th>\n",
       "      <th>control_2</th>\n",
       "    </tr>\n",
       "    <tr>\n",
       "      <th>premium</th>\n",
       "      <th></th>\n",
       "      <th></th>\n",
       "    </tr>\n",
       "  </thead>\n",
       "  <tbody>\n",
       "    <tr>\n",
       "      <th>others</th>\n",
       "      <td>4218</td>\n",
       "      <td>4128</td>\n",
       "    </tr>\n",
       "    <tr>\n",
       "      <th>premium_no_trial</th>\n",
       "      <td>99</td>\n",
       "      <td>101</td>\n",
       "    </tr>\n",
       "  </tbody>\n",
       "</table>\n",
       "</div>"
      ],
      "text/plain": [
       "group_x           control_1  control_2\n",
       "premium                               \n",
       "others                 4218       4128\n",
       "premium_no_trial         99        101"
      ]
     },
     "execution_count": 1054,
     "metadata": {},
     "output_type": "execute_result"
    }
   ],
   "source": [
    "crosstab = pd.crosstab(users_merge.drop_duplicates(subset=['uid']).premium, users_merge.drop_duplicates(subset=['uid']).group_x).drop(columns='test')\n",
    "crosstab"
   ]
  },
  {
   "cell_type": "markdown",
   "metadata": {},
   "source": [
    "Считаем конверсию для двух групп"
   ]
  },
  {
   "cell_type": "code",
   "execution_count": 1055,
   "metadata": {},
   "outputs": [
    {
     "data": {
      "text/plain": [
       "0.02377029889385738"
      ]
     },
     "execution_count": 1055,
     "metadata": {},
     "output_type": "execute_result"
    }
   ],
   "source": [
    "CR_pr_control_2 = transactions_control_2.query('revenue > 0 and product_type == \"premium_no_trial\"').uid.nunique() / users_control_2.uid.nunique()\n",
    "CR_pr_control_2"
   ]
  },
  {
   "cell_type": "code",
   "execution_count": 1056,
   "metadata": {},
   "outputs": [
    {
     "data": {
      "text/plain": [
       "0.022863741339491917"
      ]
     },
     "execution_count": 1056,
     "metadata": {},
     "output_type": "execute_result"
    }
   ],
   "source": [
    "CR_pr_control_1 = transactions_control_1.query('revenue > 0 and product_type == \"premium_no_trial\"').uid.nunique() / users_control_1.uid.nunique()\n",
    "CR_pr_control_1"
   ]
  },
  {
   "cell_type": "code",
   "execution_count": 1057,
   "metadata": {},
   "outputs": [
    {
     "data": {
      "text/plain": [
       "0.0009065575543654621"
      ]
     },
     "execution_count": 1057,
     "metadata": {},
     "output_type": "execute_result"
    }
   ],
   "source": [
    "CR_pr_control_2 - CR_pr_control_1"
   ]
  },
  {
   "cell_type": "markdown",
   "metadata": {},
   "source": [
    "В control_2 конверсия в премиум-покупку выше, чем в control_1 на 0.0009.\n",
    "Но является ли это изменение статистически значимым? \n",
    "\n",
    "Предлагаю провести статистический тест с использованием Критерия Хи-квадрат (или критерий согласия Пирсона), так как мы имеем два категориальные переменные.\n",
    "Строим гипотезы:\n",
    "\n",
    "\n",
    "H0 - изменение цены подписки не влияет на факт покупки премиум-аккаунта, статистически значимой разницы между распределениями пользователей в зависимости от подписки (продлили/ не продлили) в тестовой и контрольной группе нет\n",
    "\n",
    "H1 - изменение цены подписки влияет на факт покупки премиум-аккаунта, статистически значимая разница между распределениями пользователей в зависимости от подписки есть"
   ]
  },
  {
   "cell_type": "code",
   "execution_count": 1058,
   "metadata": {},
   "outputs": [],
   "source": [
    "stat, p, dof, expected = chi2_contingency(pd.crosstab(users_merge.drop_duplicates(subset=['uid']).premium, users_merge.drop_duplicates(subset=['uid']).group_x).drop(columns='test'))"
   ]
  },
  {
   "cell_type": "code",
   "execution_count": 1059,
   "metadata": {},
   "outputs": [
    {
     "data": {
      "text/plain": [
       "(0.047927557952542145, 0.8267095349720175)"
      ]
     },
     "execution_count": 1059,
     "metadata": {},
     "output_type": "execute_result"
    }
   ],
   "source": [
    "stat, p"
   ]
  },
  {
   "cell_type": "code",
   "execution_count": 1060,
   "metadata": {},
   "outputs": [
    {
     "name": "stdout",
     "output_type": "stream",
     "text": [
      "Не отклоняем H0\n"
     ]
    }
   ],
   "source": [
    "prob = 0.95\n",
    "critical = chi2.ppf(prob, dof)\n",
    "if abs(stat) >= critical:\n",
    "    print ('Отклоняем H0')\n",
    "else:\n",
    "    print('Не отклоняем H0')"
   ]
  },
  {
   "cell_type": "markdown",
   "metadata": {},
   "source": [
    "Второй тест с новой метрикой также показал, что группы control_1 и control_2 сплитированы корректно, нулевую гипотезу принимаем.\n",
    "\n",
    "Изменение цены подписки не влияет на факт покупки премиум-аккаунта, статистически значимой разницы между распределениями пользователей в зависимости от подписки (продлили/ не продлили) в тестовой и контрольной группе нет\n",
    "\n",
    "можно переходить к АБ тестам"
   ]
  },
  {
   "cell_type": "markdown",
   "metadata": {},
   "source": [
    "## Проводим АБ Тесты"
   ]
  },
  {
   "cell_type": "markdown",
   "metadata": {},
   "source": [
    "Предлагаю проводить тест на группами control_2 и test, потому как в control_1 были большие выбросы и нам пришлось вносить изменения в датафрейм на этапе предобработки данных"
   ]
  },
  {
   "cell_type": "markdown",
   "metadata": {},
   "source": [
    "### 1.  ARPPU_pr (Average revenue per paying user) средняя выручка на одного платящего пользователя c премиум-подпиской"
   ]
  },
  {
   "cell_type": "markdown",
   "metadata": {},
   "source": [
    "Вспомним, что использовать total_revenue из таблицы users нецелесообразно, так как в нем содежится выручка за более широкий период. В нашем случае будет правильнее сначала произвести в transactions группировку по юзерам, найти общую выручку по каждому, а затем посчитать среднюю выручку на одного платящего пользователя."
   ]
  },
  {
   "cell_type": "code",
   "execution_count": 1061,
   "metadata": {},
   "outputs": [],
   "source": [
    "group_test_sum =  transactions.query('revenue > 0.0') \\\n",
    "    .query('group == \"test\"') \\\n",
    "    .query('product_type == \"premium_no_trial\"') \\\n",
    "    .groupby('uid',as_index = False).agg({'revenue':'sum'}) \\\n",
    "    .rename(columns={'revenue': 'total_revenue'})"
   ]
  },
  {
   "cell_type": "code",
   "execution_count": 1062,
   "metadata": {},
   "outputs": [],
   "source": [
    "group_test_mean = transactions.query('revenue > 0.0') \\\n",
    "    .query('group == \"test\"') \\\n",
    "    .query('product_type == \"premium_no_trial\"') \\\n",
    "    .groupby('uid',as_index = False).agg({'revenue':'mean'}) \\\n",
    "    .rename(columns={'revenue': 'mean_revenue'})"
   ]
  },
  {
   "cell_type": "code",
   "execution_count": 1063,
   "metadata": {},
   "outputs": [],
   "source": [
    "group_control_2_sum =  transactions.query('revenue > 0.0') \\\n",
    "    .query('group == \"control_2\"') \\\n",
    "    .query('product_type == \"premium_no_trial\"') \\\n",
    "    .groupby('uid',as_index = False).agg({'revenue':'sum'}) \\\n",
    "    .rename(columns={'revenue': 'total_revenue'})"
   ]
  },
  {
   "cell_type": "code",
   "execution_count": 1064,
   "metadata": {},
   "outputs": [],
   "source": [
    "group_control_2_mean = transactions.query('revenue > 0.0') \\\n",
    "    .query('group == \"control_2\"') \\\n",
    "    .query('product_type == \"premium_no_trial\"') \\\n",
    "    .groupby('uid',as_index = False).agg({'revenue':'mean'}) \\\n",
    "    .rename(columns={'revenue': 'mean_revenue'})"
   ]
  },
  {
   "cell_type": "code",
   "execution_count": 1065,
   "metadata": {},
   "outputs": [],
   "source": [
    "group_test = group_test_sum.merge(group_test_mean, on='uid')"
   ]
  },
  {
   "cell_type": "code",
   "execution_count": 1066,
   "metadata": {},
   "outputs": [],
   "source": [
    "group_control_2 = group_control_2_sum.merge(group_control_2_mean, on='uid')"
   ]
  },
  {
   "cell_type": "markdown",
   "metadata": {},
   "source": [
    "Проверяем ARPPU_pr в друх группах"
   ]
  },
  {
   "cell_type": "code",
   "execution_count": 1067,
   "metadata": {},
   "outputs": [
    {
     "data": {
      "text/plain": [
       "11962.522388059702"
      ]
     },
     "execution_count": 1067,
     "metadata": {},
     "output_type": "execute_result"
    }
   ],
   "source": [
    "group_test.total_revenue.mean()"
   ]
  },
  {
   "cell_type": "code",
   "execution_count": 1068,
   "metadata": {},
   "outputs": [
    {
     "data": {
      "text/plain": [
       "7287.465346534654"
      ]
     },
     "execution_count": 1068,
     "metadata": {},
     "output_type": "execute_result"
    }
   ],
   "source": [
    "group_control_2.total_revenue.mean()"
   ]
  },
  {
   "cell_type": "code",
   "execution_count": 1069,
   "metadata": {},
   "outputs": [
    {
     "data": {
      "text/plain": [
       "4675.057041525049"
      ]
     },
     "execution_count": 1069,
     "metadata": {},
     "output_type": "execute_result"
    }
   ],
   "source": [
    "group_test.total_revenue.mean() - group_control_2.total_revenue.mean()"
   ]
  },
  {
   "cell_type": "markdown",
   "metadata": {},
   "source": [
    "Мы видим, что в группе test среднее ARPPU_pr на 4675.05 больше, чем в группе control_2, но является ли это различие статистически значимым? "
   ]
  },
  {
   "cell_type": "markdown",
   "metadata": {},
   "source": [
    "Посмотрим на распределение этих двух выборок"
   ]
  },
  {
   "cell_type": "code",
   "execution_count": 1070,
   "metadata": {},
   "outputs": [
    {
     "data": {
      "text/plain": [
       "<matplotlib.axes._subplots.AxesSubplot at 0x7f11878ad7f0>"
      ]
     },
     "execution_count": 1070,
     "metadata": {},
     "output_type": "execute_result"
    },
    {
     "data": {
      "image/png": "[encoded data removed]",
      "text/plain": [
       "<Figure size 360x360 with 1 Axes>"
      ]
     },
     "metadata": {},
     "output_type": "display_data"
    }
   ],
   "source": [
    "sns.set(rc={'figure.figsize': (5, 5)})\n",
    "sns.histplot((group_test.mean_revenue), kde = True)\n",
    "sns.histplot((group_control_2.mean_revenue), kde = True)"
   ]
  },
  {
   "cell_type": "markdown",
   "metadata": {},
   "source": [
    "Проверим, одинаковые ли дисперсии в группах\n",
    "\n",
    "H0 - дисперсии в группах равны\n",
    "\n",
    "H1 - дисперсии не равны"
   ]
  },
  {
   "cell_type": "code",
   "execution_count": 1071,
   "metadata": {},
   "outputs": [
    {
     "data": {
      "text/html": [
       "<div>\n",
       "<style scoped>\n",
       "    .dataframe tbody tr th:only-of-type {\n",
       "        vertical-align: middle;\n",
       "    }\n",
       "\n",
       "    .dataframe tbody tr th {\n",
       "        vertical-align: top;\n",
       "    }\n",
       "\n",
       "    .dataframe thead th {\n",
       "        text-align: right;\n",
       "    }\n",
       "</style>\n",
       "<table border=\"1\" class=\"dataframe\">\n",
       "  <thead>\n",
       "    <tr style=\"text-align: right;\">\n",
       "      <th></th>\n",
       "      <th>W</th>\n",
       "      <th>pval</th>\n",
       "      <th>equal_var</th>\n",
       "    </tr>\n",
       "  </thead>\n",
       "  <tbody>\n",
       "    <tr>\n",
       "      <th>levene</th>\n",
       "      <td>2.659569</td>\n",
       "      <td>0.104824</td>\n",
       "      <td>True</td>\n",
       "    </tr>\n",
       "  </tbody>\n",
       "</table>\n",
       "</div>"
      ],
      "text/plain": [
       "               W      pval  equal_var\n",
       "levene  2.659569  0.104824       True"
      ]
     },
     "execution_count": 1071,
     "metadata": {},
     "output_type": "execute_result"
    }
   ],
   "source": [
    "pg.homoscedasticity(data=transactions.query('group != \"control_1\" & product_type == \"premium_no_trial\"').groupby(['uid', 'group'], as_index=False).agg({'revenue' : 'sum'}), dv=\"revenue\", group=\"group\")"
   ]
  },
  {
   "cell_type": "markdown",
   "metadata": {},
   "source": [
    "Значение pval больше 0.05, equal_var = True, значит принимаем нулевую гипотезу."
   ]
  },
  {
   "cell_type": "markdown",
   "metadata": {},
   "source": [
    "Дисперсии в группах равны и число наблюдений больше 30.\n",
    "Таким образом мы можем использовать  t-критерия Стьюдента, так как мы работаем с количественными переменными для сравнения средних."
   ]
  },
  {
   "cell_type": "markdown",
   "metadata": {},
   "source": [
    "Строим гипотезы:\n",
    "\n",
    "H0 - изменение цены подписки не влияет на среднюю выручку на одного платящего пользователя с премиум-подпиской.\n",
    "\n",
    "H1 - изменение цены подписки влияет на среднюю выручку на одного платящего пользователя с премиум-подпиской."
   ]
  },
  {
   "cell_type": "code",
   "execution_count": 1072,
   "metadata": {},
   "outputs": [
    {
     "data": {
      "text/plain": [
       "Ttest_indResult(statistic=1.9742412620412333, pvalue=0.05001336451641004)"
      ]
     },
     "execution_count": 1072,
     "metadata": {},
     "output_type": "execute_result"
    }
   ],
   "source": [
    "from scipy import stats\n",
    "stats.ttest_ind((group_test.mean_revenue),(group_control_2.mean_revenue))"
   ]
  },
  {
   "cell_type": "markdown",
   "metadata": {},
   "source": [
    "Итерпретируем результат"
   ]
  },
  {
   "cell_type": "code",
   "execution_count": 1073,
   "metadata": {},
   "outputs": [
    {
     "name": "stdout",
     "output_type": "stream",
     "text": [
      "Не отклоняем H0\n"
     ]
    }
   ],
   "source": [
    "pvalue=0.05001336451641004\n",
    "if pvalue >= 0.05:\n",
    "    print ('Не отклоняем H0')\n",
    "else:\n",
    "    print('Отклоняем H0')"
   ]
  },
  {
   "cell_type": "markdown",
   "metadata": {},
   "source": [
    "Не отклоняем H0 и делаем вывод, изменение цены подписки не влияет на среднюю выручку на одного платящего пользователя с премиум-подпиской."
   ]
  },
  {
   "cell_type": "markdown",
   "metadata": {},
   "source": [
    "###  2 . CR  в покупку премиум-подписки (CR_pr)"
   ]
  },
  {
   "cell_type": "markdown",
   "metadata": {},
   "source": [
    "Объединим всех юзеров с транзакциями"
   ]
  },
  {
   "cell_type": "code",
   "execution_count": 1074,
   "metadata": {},
   "outputs": [],
   "source": [
    "users_merge = users.merge(transactions, on='uid', how='left')"
   ]
  },
  {
   "cell_type": "code",
   "execution_count": 1075,
   "metadata": {},
   "outputs": [],
   "source": [
    "users_merge['premium'] = users_merge.product_type.apply(lambda x:'premium_no_trial' if x == \"premium_no_trial\" else 'others')"
   ]
  },
  {
   "cell_type": "markdown",
   "metadata": {},
   "source": [
    "Посмотрим на наши распределения на графике"
   ]
  },
  {
   "cell_type": "code",
   "execution_count": 1076,
   "metadata": {},
   "outputs": [
    {
     "data": {
      "image/png": "[encoded data removed]",
      "text/plain": [
       "<Figure size 360x360 with 1 Axes>"
      ]
     },
     "metadata": {},
     "output_type": "display_data"
    }
   ],
   "source": [
    "sns.countplot(data=users_merge.query(\"group_x != 'control_1'\").drop_duplicates(subset=['uid']), x = 'group_x', hue = 'premium')\n",
    "\n",
    "sns.despine()\n",
    "plt.title('Премиум-подписки в группах')\n",
    "plt.tight_layout()"
   ]
  },
  {
   "cell_type": "markdown",
   "metadata": {},
   "source": [
    "Визуально понятно, что премиальных подписок в группе control_2 больше"
   ]
  },
  {
   "cell_type": "code",
   "execution_count": 1077,
   "metadata": {},
   "outputs": [
    {
     "data": {
      "text/html": [
       "<div>\n",
       "<style scoped>\n",
       "    .dataframe tbody tr th:only-of-type {\n",
       "        vertical-align: middle;\n",
       "    }\n",
       "\n",
       "    .dataframe tbody tr th {\n",
       "        vertical-align: top;\n",
       "    }\n",
       "\n",
       "    .dataframe thead th {\n",
       "        text-align: right;\n",
       "    }\n",
       "</style>\n",
       "<table border=\"1\" class=\"dataframe\">\n",
       "  <thead>\n",
       "    <tr style=\"text-align: right;\">\n",
       "      <th>group_x</th>\n",
       "      <th>control_2</th>\n",
       "      <th>test</th>\n",
       "    </tr>\n",
       "    <tr>\n",
       "      <th>premium</th>\n",
       "      <th></th>\n",
       "      <th></th>\n",
       "    </tr>\n",
       "  </thead>\n",
       "  <tbody>\n",
       "    <tr>\n",
       "      <th>others</th>\n",
       "      <td>4128</td>\n",
       "      <td>4228</td>\n",
       "    </tr>\n",
       "    <tr>\n",
       "      <th>premium_no_trial</th>\n",
       "      <td>101</td>\n",
       "      <td>67</td>\n",
       "    </tr>\n",
       "  </tbody>\n",
       "</table>\n",
       "</div>"
      ],
      "text/plain": [
       "group_x           control_2  test\n",
       "premium                          \n",
       "others                 4128  4228\n",
       "premium_no_trial        101    67"
      ]
     },
     "execution_count": 1077,
     "metadata": {},
     "output_type": "execute_result"
    }
   ],
   "source": [
    "crosstab = pd.crosstab(users_merge.drop_duplicates(subset=['uid']).premium, users_merge.drop_duplicates(subset=['uid']).group_x).drop(columns='control_1')\n",
    "crosstab"
   ]
  },
  {
   "cell_type": "markdown",
   "metadata": {},
   "source": [
    "Считаем конверсию в наших группах"
   ]
  },
  {
   "cell_type": "code",
   "execution_count": 1078,
   "metadata": {},
   "outputs": [
    {
     "data": {
      "text/plain": [
       "0.02377029889385738"
      ]
     },
     "execution_count": 1078,
     "metadata": {},
     "output_type": "execute_result"
    }
   ],
   "source": [
    "CR_pr_control_2 = transactions_control_2.query('revenue > 0 and product_type == \"premium_no_trial\"').uid.nunique() / users_control_2.uid.nunique()\n",
    "CR_pr_control_2"
   ]
  },
  {
   "cell_type": "code",
   "execution_count": 1079,
   "metadata": {},
   "outputs": [
    {
     "data": {
      "text/plain": [
       "0.015552460538532962"
      ]
     },
     "execution_count": 1079,
     "metadata": {},
     "output_type": "execute_result"
    }
   ],
   "source": [
    "CR_pr_test = transactions_test.query('revenue > 0 and product_type == \"premium_no_trial\"').uid.nunique() / users_test.uid.nunique()\n",
    "CR_pr_test"
   ]
  },
  {
   "cell_type": "code",
   "execution_count": 1080,
   "metadata": {},
   "outputs": [
    {
     "data": {
      "text/plain": [
       "0.008217838355324417"
      ]
     },
     "execution_count": 1080,
     "metadata": {},
     "output_type": "execute_result"
    }
   ],
   "source": [
    "CR_pr_control_2 - CR_pr_test"
   ]
  },
  {
   "cell_type": "markdown",
   "metadata": {},
   "source": [
    "В control_2 конверсия в премиум-покупку выше, чем в test на 0.00821.\n",
    "Но является ли это изменение статистически значимым? \n",
    "\n",
    "Предлагаю провести статистический тест с использованием Критерия Хи-квадрат (или критерий согласия Пирсона), так как мы имеем два категориальные переменные.\n",
    "Строим гипотезы:\n",
    "\n",
    "\n",
    "H0 - изменение цены подписки не влияет на факт покупки премиум-аккаунта, статистически значимой разницы между распределениями пользователей в зависимости от подписки (продлили/ не продлили) в тестовой и контрольной группе нет\n",
    "\n",
    "H1 - изменение цены подписки влияет на факт покупки премиум-аккаунта, статистически значимая разница между распределениями пользователей в зависимости от подписки есть"
   ]
  },
  {
   "cell_type": "code",
   "execution_count": 1081,
   "metadata": {},
   "outputs": [],
   "source": [
    "stat, p, dof, expected = chi2_contingency(pd.crosstab(users_merge.drop_duplicates(subset=['uid']).premium, users_merge.drop_duplicates(subset=['uid']).group_x).drop(columns='control_1'))"
   ]
  },
  {
   "cell_type": "code",
   "execution_count": 1082,
   "metadata": {},
   "outputs": [
    {
     "data": {
      "text/plain": [
       "(7.144473124816267, 0.007519536272015592)"
      ]
     },
     "execution_count": 1082,
     "metadata": {},
     "output_type": "execute_result"
    }
   ],
   "source": [
    "stat, p"
   ]
  },
  {
   "cell_type": "code",
   "execution_count": 1083,
   "metadata": {},
   "outputs": [
    {
     "name": "stdout",
     "output_type": "stream",
     "text": [
      "Отклоняем H0\n"
     ]
    }
   ],
   "source": [
    "prob = 0.95\n",
    "critical = chi2.ppf(prob, dof)\n",
    "if abs(stat) >= critical:\n",
    "    print ('Отклоняем H0')\n",
    "else:\n",
    "    print('Не отклоняем H0')"
   ]
  },
  {
   "cell_type": "markdown",
   "metadata": {},
   "source": [
    "Тест показал, что разница количества premium подписок в двух группах статистически значима, Отклоняем HO, изменение цены подписки влияет на факт покупки премиум-аккаунта, статистически значимая разница между распределениями пользователей в зависимости от подписки есть"
   ]
  },
  {
   "cell_type": "markdown",
   "metadata": {},
   "source": [
    "Создадим сводную таблицу с расчитанными метриками:"
   ]
  },
  {
   "cell_type": "code",
   "execution_count": 1088,
   "metadata": {},
   "outputs": [
    {
     "data": {
      "text/html": [
       "<div>\n",
       "<style scoped>\n",
       "    .dataframe tbody tr th:only-of-type {\n",
       "        vertical-align: middle;\n",
       "    }\n",
       "\n",
       "    .dataframe tbody tr th {\n",
       "        vertical-align: top;\n",
       "    }\n",
       "\n",
       "    .dataframe thead th {\n",
       "        text-align: right;\n",
       "    }\n",
       "</style>\n",
       "<table border=\"1\" class=\"dataframe\">\n",
       "  <thead>\n",
       "    <tr style=\"text-align: right;\">\n",
       "      <th></th>\n",
       "      <th>users</th>\n",
       "      <th>premium_users</th>\n",
       "      <th>CR_pr</th>\n",
       "      <th>ARPPU_pr</th>\n",
       "    </tr>\n",
       "  </thead>\n",
       "  <tbody>\n",
       "    <tr>\n",
       "      <th>test</th>\n",
       "      <td>4308</td>\n",
       "      <td>67</td>\n",
       "      <td>0.015552</td>\n",
       "      <td>11962.522388</td>\n",
       "    </tr>\n",
       "  </tbody>\n",
       "</table>\n",
       "</div>"
      ],
      "text/plain": [
       "      users  premium_users     CR_pr      ARPPU_pr\n",
       "test   4308             67  0.015552  11962.522388"
      ]
     },
     "execution_count": 1088,
     "metadata": {},
     "output_type": "execute_result"
    }
   ],
   "source": [
    "pivot_table = []\n",
    "\n",
    "users = users_test.uid.nunique()\n",
    "premium_users = transactions_test.query('revenue > 0 and product_type == \"premium_no_trial\"').uid.nunique()\n",
    "revenue = transactions_test.query('product_type == \"premium_no_trial\"').revenue.sum()\n",
    "CR_pr = (premium_users/users)\n",
    "ARPPU_pr = (revenue/premium_users)\n",
    "\n",
    "pivot_table.append(pd.DataFrame(index = ['test'], data = {'users':users, 'premium_users':premium_users, \n",
    "                                                      'CR_pr':CR_pr, 'ARPPU_pr':ARPPU_pr}))\n",
    "pivot_table = pd.concat(pivot_table)\n",
    "pivot_table"
   ]
  },
  {
   "cell_type": "code",
   "execution_count": 1089,
   "metadata": {},
   "outputs": [
    {
     "data": {
      "text/html": [
       "<div>\n",
       "<style scoped>\n",
       "    .dataframe tbody tr th:only-of-type {\n",
       "        vertical-align: middle;\n",
       "    }\n",
       "\n",
       "    .dataframe tbody tr th {\n",
       "        vertical-align: top;\n",
       "    }\n",
       "\n",
       "    .dataframe thead th {\n",
       "        text-align: right;\n",
       "    }\n",
       "</style>\n",
       "<table border=\"1\" class=\"dataframe\">\n",
       "  <thead>\n",
       "    <tr style=\"text-align: right;\">\n",
       "      <th></th>\n",
       "      <th>users</th>\n",
       "      <th>premium_users</th>\n",
       "      <th>CR_pr</th>\n",
       "      <th>ARPPU_pr</th>\n",
       "    </tr>\n",
       "  </thead>\n",
       "  <tbody>\n",
       "    <tr>\n",
       "      <th>control_2</th>\n",
       "      <td>4249</td>\n",
       "      <td>101</td>\n",
       "      <td>0.02377</td>\n",
       "      <td>7287.465347</td>\n",
       "    </tr>\n",
       "  </tbody>\n",
       "</table>\n",
       "</div>"
      ],
      "text/plain": [
       "           users  premium_users    CR_pr     ARPPU_pr\n",
       "control_2   4249            101  0.02377  7287.465347"
      ]
     },
     "execution_count": 1089,
     "metadata": {},
     "output_type": "execute_result"
    }
   ],
   "source": [
    "pivot_table_2 = []\n",
    "\n",
    "users = users_control_2.uid.nunique()\n",
    "premium_users = transactions_control_2.query('revenue > 0 and product_type == \"premium_no_trial\"').uid.nunique()\n",
    "revenue = transactions_control_2.query('product_type == \"premium_no_trial\"').revenue.sum()\n",
    "CR_pr = (premium_users/users)\n",
    "ARPPU_pr = (revenue/premium_users)\n",
    "\n",
    "pivot_table_2.append(pd.DataFrame(index = ['control_2'], data = {'users':users, 'premium_users':premium_users,\n",
    "                                                      'CR_pr':CR_pr, 'ARPPU_pr':ARPPU_pr}))\n",
    "\n",
    "pivot_table_2 = pd.concat(pivot_table_2)\n",
    "pivot_table_2"
   ]
  },
  {
   "cell_type": "code",
   "execution_count": 1090,
   "metadata": {},
   "outputs": [
    {
     "data": {
      "text/html": [
       "<div>\n",
       "<style scoped>\n",
       "    .dataframe tbody tr th:only-of-type {\n",
       "        vertical-align: middle;\n",
       "    }\n",
       "\n",
       "    .dataframe tbody tr th {\n",
       "        vertical-align: top;\n",
       "    }\n",
       "\n",
       "    .dataframe thead th {\n",
       "        text-align: right;\n",
       "    }\n",
       "</style>\n",
       "<table border=\"1\" class=\"dataframe\">\n",
       "  <thead>\n",
       "    <tr style=\"text-align: right;\">\n",
       "      <th></th>\n",
       "      <th>users</th>\n",
       "      <th>premium_users</th>\n",
       "      <th>CR_pr</th>\n",
       "      <th>ARPPU_pr</th>\n",
       "    </tr>\n",
       "  </thead>\n",
       "  <tbody>\n",
       "    <tr>\n",
       "      <th>test</th>\n",
       "      <td>4308</td>\n",
       "      <td>67</td>\n",
       "      <td>0.015552</td>\n",
       "      <td>11962.522388</td>\n",
       "    </tr>\n",
       "    <tr>\n",
       "      <th>control_2</th>\n",
       "      <td>4249</td>\n",
       "      <td>101</td>\n",
       "      <td>0.023770</td>\n",
       "      <td>7287.465347</td>\n",
       "    </tr>\n",
       "  </tbody>\n",
       "</table>\n",
       "</div>"
      ],
      "text/plain": [
       "           users  premium_users     CR_pr      ARPPU_pr\n",
       "test        4308             67  0.015552  11962.522388\n",
       "control_2   4249            101  0.023770   7287.465347"
      ]
     },
     "execution_count": 1090,
     "metadata": {},
     "output_type": "execute_result"
    }
   ],
   "source": [
    "pivot_table_merged = pd.concat([pivot_table, pivot_table_2])\n",
    "pivot_table_merged"
   ]
  },
  {
   "cell_type": "markdown",
   "metadata": {},
   "source": [
    "Сводная наблица наглядно показывает, что в тестовой группе CR_pr значительно ниже, премиальных пользователей меньше на 51 % меньше, хотя в тестовой количество юзеров больше. Средняя выручка на одного платящего пользователя с премиум-подпиской в тестовой группе выше, но не значительно."
   ]
  },
  {
   "cell_type": "markdown",
   "metadata": {},
   "source": [
    "## Выводы"
   ]
  },
  {
   "cell_type": "markdown",
   "metadata": {},
   "source": [
    "Нам были предоставлены репрезентативные выборки, система сплитования сработала эффективно.\n",
    "\n",
    "Средний возраст пользователей приложения 32 года, 95 % пользователей - мужчины.\n",
    "\n",
    "Большая часть пользователей из США.\n",
    "\n",
    "Нам пришлось удалить из первой контрольной группы строки с отсутствующими значениями, и дубли из таблицы transactions, после этого можно сказать, что количество пользователей во всех трех группах было примерно равным.\n",
    "\n",
    "Мы выбрали группу Control_2 для проведения АБ тестов, так как в ней не было корректировок.\n",
    "\n",
    "\n",
    "Так как в первую очередь нас интересовало увеличение выручки после изменения стоимости платной подписки, мы сравнили среднюю выручку платещего пользователя с премиум-подпиской ARPPU_pr (Average revenue per paying user), в тестовой группе ARPPU оказался выше, чем в контрольной на 4675.05.\n",
    "Тест показал различие статистически незанчимым, принимаем HO и считаем, что изменение цены подписки не влияет на среднюю выручку на одного платящего пользователя с премиум-подпиской.\n",
    "\n",
    "Также мы проверили такую метрику, как конверсия в премиум-подписку CR_pr. Она, наоборот, оказалась ниже в тестовой группе, чем в контрольной на  0.00821, тест показал данное различие  стат. значимым. и мы отклоники H0 - изменение цены подписки влияет на факт покупки премиум-аккаунта, статистически значимая разница между распределениями пользователей в зависимости от подписки (продлили/ не продлили) в тестовой и контрольной группе есть.\n",
    "\n",
    "Эксперимент можно считать неудачным, так как с новой стоимостью подписки конверсия скорей всего будет продолжать падать, так как тест показал снижение стат. значимым, а выручка значительно расти не будет. В дальнейшем, с постепенным снижением конверсии мы увидим и снижение выручки, это лишь вопрос времени."
   ]
  }
 ],
 "metadata": {
  "kernelspec": {
   "display_name": "Python 3",
   "language": "python",
   "name": "python3"
  },
  "language_info": {
   "codemirror_mode": {
    "name": "ipython",
    "version": 3
   },
   "file_extension": ".py",
   "mimetype": "text/x-python",
   "name": "python",
   "nbconvert_exporter": "python",
   "pygments_lexer": "ipython3",
   "version": "3.7.3"
  }
 },
 "nbformat": 4,
 "nbformat_minor": 4
}
